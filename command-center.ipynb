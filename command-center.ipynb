{
 "cells": [
  {
   "cell_type": "code",
   "execution_count": 2,
   "id": "6c4c11cd-f98c-4f99-8b52-9acebb66289b",
   "metadata": {},
   "outputs": [],
   "source": [
    "from phase1_model_instantiation import model_setup, func_test"
   ]
  },
  {
   "cell_type": "code",
   "execution_count": 4,
   "id": "72c4efbc-34aa-489a-bb10-1723286d7782",
   "metadata": {},
   "outputs": [
    {
     "name": "stdout",
     "output_type": "stream",
     "text": [
      "Available Qwen models:\n",
      "  qwen-2.5-3b: modified 2025-09-04 22:55:50+00:00\n"
     ]
    }
   ],
   "source": [
    "print(\"Available Qwen models:\")\n",
    "models = model_setup.list_qwen_models()\n",
    "for name, info in models.items():\n",
    "    print(f\"  {name}: modified {info['last_modified']}\")"
   ]
  },
  {
   "cell_type": "code",
   "execution_count": 4,
   "id": "509ec020-d5d1-429f-96ed-5dd7085f4556",
   "metadata": {},
   "outputs": [
    {
     "name": "stdout",
     "output_type": "stream",
     "text": [
      "Files in model directory:\n",
      "  cache\n",
      "\n",
      "❌ config.json is missing!\n"
     ]
    }
   ],
   "source": [
    "import os\n",
    "model_path = \"/workspace/praxis-research/base-model/qwen-2.5-3b\"\n",
    "print(\"Files in model directory:\")\n",
    "for file in os.listdir(model_path):\n",
    "    print(f\"  {file}\")\n",
    "\n",
    "# Check if config.json exists and what's in it\n",
    "config_path = os.path.join(model_path, \"config.json\")\n",
    "if os.path.exists(config_path):\n",
    "    with open(config_path, 'r') as f:\n",
    "        import json\n",
    "        config = json.load(f)\n",
    "        print(f\"\\nConfig model_type: {config.get('model_type', 'MISSING')}\")\n",
    "else:\n",
    "    print(\"\\n❌ config.json is missing!\")"
   ]
  },
  {
   "cell_type": "code",
   "execution_count": 5,
   "id": "a3c6f9db-e4ee-413f-96f7-c600053f4bed",
   "metadata": {},
   "outputs": [
    {
     "name": "stdout",
     "output_type": "stream",
     "text": [
      "All blobs in qwen_models/:\n",
      "  qwen_models/qwen-2.5-3b/cache/.locks/models--Qwen--Qwen2.5-3B-Instruct/07bfe0640cb5a0037f9322287fbfc682806cf672.lock (0 bytes)\n",
      "  qwen_models/qwen-2.5-3b/cache/.locks/models--Qwen--Qwen2.5-3B-Instruct/20024bfe7c83998e9aeaf98a0cd6a2ce6306c2f0.lock (0 bytes)\n",
      "  qwen_models/qwen-2.5-3b/cache/.locks/models--Qwen--Qwen2.5-3B-Instruct/38047c6284a25427043f0ab040f623a2a20dd093.lock (0 bytes)\n",
      "  qwen_models/qwen-2.5-3b/cache/.locks/models--Qwen--Qwen2.5-3B-Instruct/443909a61d429dff23010e5bddd28ff530edda00.lock (0 bytes)\n",
      "  qwen_models/qwen-2.5-3b/cache/.locks/models--Qwen--Qwen2.5-3B-Instruct/4783fe10ac3adce15ac8f358ef5462739852c569.lock (0 bytes)\n",
      "  qwen_models/qwen-2.5-3b/cache/.locks/models--Qwen--Qwen2.5-3B-Instruct/51b83fbd4e2d363b60235b9c8d494046a83c1cbf.lock (0 bytes)\n",
      "  qwen_models/qwen-2.5-3b/cache/.locks/models--Qwen--Qwen2.5-3B-Instruct/67347b23fb4165b652eb6611f5e1f2a06dfcddba8e909df1b2b0b1857bee06c2.lock (0 bytes)\n",
      "  qwen_models/qwen-2.5-3b/cache/.locks/models--Qwen--Qwen2.5-3B-Instruct/a40d941d0e7e0b966ad8b62bb6d6b7c88cce1299197b599d9d0a4ce59aabfc1d.lock (0 bytes)\n",
      "  qwen_models/qwen-2.5-3b/cache/.locks/models--Qwen--Qwen2.5-3B-Instruct/bf077f03dc569cfb8a90b3ec1ad20365a620bad6.lock (0 bytes)\n",
      "  qwen_models/qwen-2.5-3b/cache/models--Qwen--Qwen2.5-3B-Instruct/.no_exist/aa8e72537993ba99e69dfaafa59ed015b17504d1/added_tokens.json (0 bytes)\n",
      "  qwen_models/qwen-2.5-3b/cache/models--Qwen--Qwen2.5-3B-Instruct/.no_exist/aa8e72537993ba99e69dfaafa59ed015b17504d1/chat_template.jinja (0 bytes)\n",
      "  qwen_models/qwen-2.5-3b/cache/models--Qwen--Qwen2.5-3B-Instruct/.no_exist/aa8e72537993ba99e69dfaafa59ed015b17504d1/model.safetensors (0 bytes)\n",
      "  qwen_models/qwen-2.5-3b/cache/models--Qwen--Qwen2.5-3B-Instruct/.no_exist/aa8e72537993ba99e69dfaafa59ed015b17504d1/special_tokens_map.json (0 bytes)\n",
      "  qwen_models/qwen-2.5-3b/cache/models--Qwen--Qwen2.5-3B-Instruct/blobs/07bfe0640cb5a0037f9322287fbfc682806cf672 (7305 bytes)\n",
      "  qwen_models/qwen-2.5-3b/cache/models--Qwen--Qwen2.5-3B-Instruct/blobs/20024bfe7c83998e9aeaf98a0cd6a2ce6306c2f0 (1671839 bytes)\n",
      "  qwen_models/qwen-2.5-3b/cache/models--Qwen--Qwen2.5-3B-Instruct/blobs/38047c6284a25427043f0ab040f623a2a20dd093 (35581 bytes)\n",
      "  qwen_models/qwen-2.5-3b/cache/models--Qwen--Qwen2.5-3B-Instruct/blobs/443909a61d429dff23010e5bddd28ff530edda00 (7031645 bytes)\n",
      "  qwen_models/qwen-2.5-3b/cache/models--Qwen--Qwen2.5-3B-Instruct/blobs/4783fe10ac3adce15ac8f358ef5462739852c569 (2776833 bytes)\n",
      "  qwen_models/qwen-2.5-3b/cache/models--Qwen--Qwen2.5-3B-Instruct/blobs/51b83fbd4e2d363b60235b9c8d494046a83c1cbf (661 bytes)\n",
      "  qwen_models/qwen-2.5-3b/cache/models--Qwen--Qwen2.5-3B-Instruct/blobs/67347b23fb4165b652eb6611f5e1f2a06dfcddba8e909df1b2b0b1857bee06c2 (3968658944 bytes)\n",
      "  qwen_models/qwen-2.5-3b/cache/models--Qwen--Qwen2.5-3B-Instruct/blobs/a40d941d0e7e0b966ad8b62bb6d6b7c88cce1299197b599d9d0a4ce59aabfc1d (2203268048 bytes)\n",
      "  qwen_models/qwen-2.5-3b/cache/models--Qwen--Qwen2.5-3B-Instruct/blobs/bf077f03dc569cfb8a90b3ec1ad20365a620bad6 (242 bytes)\n",
      "  qwen_models/qwen-2.5-3b/cache/models--Qwen--Qwen2.5-3B-Instruct/refs/main (40 bytes)\n",
      "  qwen_models/qwen-2.5-3b/cache/models--Qwen--Qwen2.5-3B-Instruct/snapshots/aa8e72537993ba99e69dfaafa59ed015b17504d1/config.json (661 bytes)\n",
      "  qwen_models/qwen-2.5-3b/cache/models--Qwen--Qwen2.5-3B-Instruct/snapshots/aa8e72537993ba99e69dfaafa59ed015b17504d1/generation_config.json (242 bytes)\n",
      "  qwen_models/qwen-2.5-3b/cache/models--Qwen--Qwen2.5-3B-Instruct/snapshots/aa8e72537993ba99e69dfaafa59ed015b17504d1/merges.txt (1671839 bytes)\n",
      "  qwen_models/qwen-2.5-3b/cache/models--Qwen--Qwen2.5-3B-Instruct/snapshots/aa8e72537993ba99e69dfaafa59ed015b17504d1/model-00001-of-00002.safetensors (3968658944 bytes)\n",
      "  qwen_models/qwen-2.5-3b/cache/models--Qwen--Qwen2.5-3B-Instruct/snapshots/aa8e72537993ba99e69dfaafa59ed015b17504d1/model-00002-of-00002.safetensors (2203268048 bytes)\n",
      "  qwen_models/qwen-2.5-3b/cache/models--Qwen--Qwen2.5-3B-Instruct/snapshots/aa8e72537993ba99e69dfaafa59ed015b17504d1/model.safetensors.index.json (35581 bytes)\n",
      "  qwen_models/qwen-2.5-3b/cache/models--Qwen--Qwen2.5-3B-Instruct/snapshots/aa8e72537993ba99e69dfaafa59ed015b17504d1/tokenizer.json (7031645 bytes)\n",
      "  qwen_models/qwen-2.5-3b/cache/models--Qwen--Qwen2.5-3B-Instruct/snapshots/aa8e72537993ba99e69dfaafa59ed015b17504d1/tokenizer_config.json (7305 bytes)\n",
      "  qwen_models/qwen-2.5-3b/cache/models--Qwen--Qwen2.5-3B-Instruct/snapshots/aa8e72537993ba99e69dfaafa59ed015b17504d1/vocab.json (2776833 bytes)\n",
      "  qwen_models/qwen-2.5-3b/manifest.json (4354 bytes)\n"
     ]
    }
   ],
   "source": [
    "# List all blobs in the qwen_models directory\n",
    "\n",
    "secrets = model_setup.get_secrets()\n",
    "from azure.storage.blob import BlobServiceClient\n",
    "\n",
    "connection_string = f\"DefaultEndpointsProtocol=https;AccountName={secrets['storage_account_name']};AccountKey={secrets['storage_account_key']};EndpointSuffix=core.windows.net\"\n",
    "blob_service_client = BlobServiceClient.from_connection_string(connection_string)\n",
    "container_client = blob_service_client.get_container_client(secrets['container'])\n",
    "\n",
    "print(\"All blobs in qwen_models/:\")\n",
    "blobs = list(container_client.list_blobs(name_starts_with=\"qwen_models/\"))\n",
    "for blob in blobs:\n",
    "    print(f\"  {blob.name} ({blob.size} bytes)\")"
   ]
  },
  {
   "cell_type": "code",
   "execution_count": 3,
   "id": "215df5e0-3026-4241-8843-fac1aebeebaf",
   "metadata": {},
   "outputs": [
    {
     "name": "stdout",
     "output_type": "stream",
     "text": [
      "✅ Using cached Qwen model at /workspace/praxis-research/base-model/qwen-2.5-3b/cache/models--Qwen--Qwen2.5-3B-Instruct/snapshots/aa8e72537993ba99e69dfaafa59ed015b17504d1\n",
      "🔄 Loading model and tokenizer from /workspace/praxis-research/base-model/qwen-2.5-3b/cache/models--Qwen--Qwen2.5-3B-Instruct/snapshots/aa8e72537993ba99e69dfaafa59ed015b17504d1\n"
     ]
    },
    {
     "name": "stderr",
     "output_type": "stream",
     "text": [
      "Sliding Window Attention is enabled but not implemented for `sdpa`; unexpected results may be encountered.\n"
     ]
    },
    {
     "data": {
      "application/vnd.jupyter.widget-view+json": {
       "model_id": "9cf3eeb7b3084bc3a422261f725f1daa",
       "version_major": 2,
       "version_minor": 0
      },
      "text/plain": [
       "Loading checkpoint shards:   0%|          | 0/2 [00:00<?, ?it/s]"
      ]
     },
     "metadata": {},
     "output_type": "display_data"
    },
    {
     "name": "stdout",
     "output_type": "stream",
     "text": [
      "✅ Successfully loaded Qwen model /workspace/praxis-research/base-model/qwen-2.5-3b/cache/models--Qwen--Qwen2.5-3B-Instruct/snapshots/aa8e72537993ba99e69dfaafa59ed015b17504d1\n"
     ]
    }
   ],
   "source": [
    "# Load model/tokenizer from the correct cache path\n",
    "model_path = \"/workspace/praxis-research/base-model/qwen-2.5-3b/cache/models--Qwen--Qwen2.5-3B-Instruct/snapshots/aa8e72537993ba99e69dfaafa59ed015b17504d1\"\n",
    "\n",
    "model, tokenizer = model_setup.get_qwen_model(model_path)"
   ]
  },
  {
   "cell_type": "code",
   "execution_count": 4,
   "id": "ce1565e3-80ae-4b2e-95f0-229683675b25",
   "metadata": {},
   "outputs": [
    {
     "name": "stdout",
     "output_type": "stream",
     "text": [
      "\n",
      "Interactive QA/chat with Qwen. Type 'exit' or 'quit' to stop.\n"
     ]
    },
    {
     "name": "stdout",
     "output_type": "stream",
     "text": [
      "\n",
      "You:  are you there?\n"
     ]
    },
    {
     "name": "stdout",
     "output_type": "stream",
     "text": [
      "Qwen: Yes, I am here and ready to help you. How can I assist you today?\n"
     ]
    },
    {
     "name": "stdout",
     "output_type": "stream",
     "text": [
      "\n",
      "You:  exit\n"
     ]
    },
    {
     "name": "stdout",
     "output_type": "stream",
     "text": [
      "Goodbye!\n"
     ]
    }
   ],
   "source": [
    "# Start interactive chat\n",
    "func_test.chat_loop(model, tokenizer, system_text=\"You are a helpful AI assistant.\", max_new_tokens=256)"
   ]
  },
  {
   "cell_type": "code",
   "execution_count": 10,
   "id": "f1f01740-1e11-4590-a64d-00ebd9e8315e",
   "metadata": {},
   "outputs": [],
   "source": [
    "from data import data_pipeline, preprocessing"
   ]
  },
  {
   "cell_type": "code",
   "execution_count": 14,
   "id": "f7ca368f-b4e4-4dd1-b930-9bf169f93556",
   "metadata": {},
   "outputs": [
    {
     "name": "stdout",
     "output_type": "stream",
     "text": [
      "Getting credentials...\n",
      "Creating Key Vault client...\n",
      "Retrieving secrets...\n",
      "📊 Retrieving all data from s_scholar_container...\n",
      "Read 135852 items\n",
      "📄 Processing 135852 records for NLP...\n",
      "✅ Formatted 135852 records for NLP processing\n",
      "📄 Found 135852 records from Semantic Scholar\n",
      "🔄 Preprocessing 135852 records for Qwen/Qwen2.5-3B\n"
     ]
    },
    {
     "data": {
      "application/vnd.jupyter.widget-view+json": {
       "model_id": "d0bb27efda854bd482617f32141900cd",
       "version_major": 2,
       "version_minor": 0
      },
      "text/plain": [
       "tokenizer_config.json: 0.00B [00:00, ?B/s]"
      ]
     },
     "metadata": {},
     "output_type": "display_data"
    },
    {
     "data": {
      "application/vnd.jupyter.widget-view+json": {
       "model_id": "765314f3032f48aa919ff3a4d5963ae2",
       "version_major": 2,
       "version_minor": 0
      },
      "text/plain": [
       "vocab.json: 0.00B [00:00, ?B/s]"
      ]
     },
     "metadata": {},
     "output_type": "display_data"
    },
    {
     "data": {
      "application/vnd.jupyter.widget-view+json": {
       "model_id": "37db3a425fbe433c83c16a8ba00f6508",
       "version_major": 2,
       "version_minor": 0
      },
      "text/plain": [
       "merges.txt: 0.00B [00:00, ?B/s]"
      ]
     },
     "metadata": {},
     "output_type": "display_data"
    },
    {
     "data": {
      "application/vnd.jupyter.widget-view+json": {
       "model_id": "6693741cd8a748fdbbb2c608d43f685b",
       "version_major": 2,
       "version_minor": 0
      },
      "text/plain": [
       "tokenizer.json: 0.00B [00:00, ?B/s]"
      ]
     },
     "metadata": {},
     "output_type": "display_data"
    },
    {
     "name": "stdout",
     "output_type": "stream",
     "text": [
      "✅ Cleaned data: 135491 records\n",
      "🔄 Tokenizing data...\n"
     ]
    },
    {
     "data": {
      "application/vnd.jupyter.widget-view+json": {
       "model_id": "f6d7039e92284959ad8992d14b0ef237",
       "version_major": 2,
       "version_minor": 0
      },
      "text/plain": [
       "Map:   0%|          | 0/135491 [00:00<?, ? examples/s]"
      ]
     },
     "metadata": {},
     "output_type": "display_data"
    },
    {
     "name": "stdout",
     "output_type": "stream",
     "text": [
      "✅ Tokenized 135491 samples\n",
      "💾 Saving processed data to qwen_processed_data.pkl\n",
      "\n",
      "📊 Dataset Statistics:\n",
      "Total samples: 135491\n",
      "Average tokens per sample: 257.1\n",
      "Max tokens: 1024\n",
      "Min tokens: 6\n",
      "\n",
      "Source distribution:\n",
      "  s_scholar_container: 135491 samples\n",
      "\n",
      "✅ Preprocessing complete! Dataset ready for training.\n"
     ]
    }
   ],
   "source": [
    "data = preprocessing.get_nlp_ready_data('s_scholar_container')\n",
    "    \n",
    "if data:\n",
    "    print(f\"📄 Found {len(data)} records from Semantic Scholar\")\n",
    "    \n",
    "    # Preprocess for Qwen\n",
    "    dataset = preprocessing.preprocess_for_qwen(\n",
    "        data, \n",
    "        model_name=\"Qwen/Qwen2.5-3B\",\n",
    "        max_length=1024,  # Adjust based on your needs\n",
    "        save_path=\"data/qwen_processed_data.pkl\"\n",
    "    )\n",
    "    \n",
    "    # Show statistics\n",
    "    preprocessing.get_dataset_stats(dataset)\n",
    "    \n",
    "    print(f\"\\n✅ Preprocessing complete! Dataset ready for training.\")\n",
    "else:\n",
    "    print(\"❌ No data found in s_scholar_container!\")"
   ]
  },
  {
   "cell_type": "code",
   "execution_count": 9,
   "id": "c69ef753-7594-437b-be44-22e533119542",
   "metadata": {},
   "outputs": [],
   "source": [
    "from phase2_dapt_implementation.openai_client import GPT "
   ]
  },
  {
   "cell_type": "code",
   "execution_count": 10,
   "id": "fb850c05",
   "metadata": {},
   "outputs": [],
   "source": [
    "gpt = GPT()"
   ]
  },
  {
   "cell_type": "code",
   "execution_count": 3,
   "id": "081bc6b0",
   "metadata": {},
   "outputs": [
    {
     "name": "stdout",
     "output_type": "stream",
     "text": [
      "Hello! I'm just a computer program, so I don't have feelings, but I'm here and ready to help you with anything you need. How can I assist you today?\n"
     ]
    }
   ],
   "source": [
    "response = gpt.ask(\"Hello, how are you?\")\n",
    "print(response)"
   ]
  },
  {
   "cell_type": "code",
   "execution_count": 11,
   "id": "8c76ad04",
   "metadata": {},
   "outputs": [
    {
     "name": "stdout",
     "output_type": "stream",
     "text": [
      "A Recurrent Neural Network (RNN) is a type of neural network designed to handle sequential data, such as time series data or natural language. Unlike feedforward neural networks, which have a fixed input size, RNNs have connections that create loops in the network, allowing information to persist. This enables RNNs to learn from and make predictions about sequences of data. RNNs are commonly used in tasks such as language modeling, speech recognition, and machine translation.\n"
     ]
    }
   ],
   "source": [
    "print(gpt.ask(\"What is an RNN in machine learning?\"))"
   ]
  },
  {
   "cell_type": "code",
   "execution_count": 2,
   "id": "70bb4cb0",
   "metadata": {},
   "outputs": [
    {
     "name": "stdout",
     "output_type": "stream",
     "text": [
      "Collecting azure-keyvault-secrets\n",
      "  Obtaining dependency information for azure-keyvault-secrets from https://files.pythonhosted.org/packages/26/94/7c902e966b28e7cb5080a8e0dd6bffc22ba44bc907f09c4c633d2b7c4f6a/azure_keyvault_secrets-4.10.0-py3-none-any.whl.metadata\n",
      "  Downloading azure_keyvault_secrets-4.10.0-py3-none-any.whl.metadata (18 kB)\n",
      "Requirement already satisfied: azure-identity in c:\\users\\joshuacubero\\appdata\\local\\anaconda3\\lib\\site-packages (1.17.1)\n",
      "Collecting azure-cosmos\n",
      "  Obtaining dependency information for azure-cosmos from https://files.pythonhosted.org/packages/61/dc/380f843744535497acd0b85aacb59565c84fc28bf938c8d6e897a858cd95/azure_cosmos-4.9.0-py3-none-any.whl.metadata\n",
      "  Downloading azure_cosmos-4.9.0-py3-none-any.whl.metadata (80 kB)\n",
      "     ---------------------------------------- 0.0/80.8 kB ? eta -:--:--\n",
      "     ----- ---------------------------------- 10.2/80.8 kB ? eta -:--:--\n",
      "     ---------------------------------------- 80.8/80.8 kB 1.1 MB/s eta 0:00:00\n",
      "Requirement already satisfied: isodate>=0.6.1 in c:\\users\\joshuacubero\\appdata\\local\\anaconda3\\lib\\site-packages (from azure-keyvault-secrets) (0.6.1)\n",
      "Collecting azure-core>=1.31.0 (from azure-keyvault-secrets)\n",
      "  Obtaining dependency information for azure-core>=1.31.0 from https://files.pythonhosted.org/packages/27/52/805980aa1ba18282077c484dba634ef0ede1e84eec8be9c92b2e162d0ed6/azure_core-1.35.1-py3-none-any.whl.metadata\n",
      "  Downloading azure_core-1.35.1-py3-none-any.whl.metadata (46 kB)\n",
      "     ---------------------------------------- 0.0/46.5 kB ? eta -:--:--\n",
      "     ---------------------------------------- 46.5/46.5 kB 2.3 MB/s eta 0:00:00\n",
      "Requirement already satisfied: typing-extensions>=4.6.0 in c:\\users\\joshuacubero\\appdata\\local\\anaconda3\\lib\\site-packages (from azure-keyvault-secrets) (4.12.2)\n",
      "Requirement already satisfied: cryptography>=2.5 in c:\\users\\joshuacubero\\appdata\\local\\anaconda3\\lib\\site-packages (from azure-identity) (41.0.3)\n",
      "Requirement already satisfied: msal>=1.24.0 in c:\\users\\joshuacubero\\appdata\\local\\anaconda3\\lib\\site-packages (from azure-identity) (1.30.0)\n",
      "Requirement already satisfied: msal-extensions>=0.3.0 in c:\\users\\joshuacubero\\appdata\\local\\anaconda3\\lib\\site-packages (from azure-identity) (1.2.0)\n",
      "Requirement already satisfied: requests>=2.21.0 in c:\\users\\joshuacubero\\appdata\\local\\anaconda3\\lib\\site-packages (from azure-core>=1.31.0->azure-keyvault-secrets) (2.31.0)\n",
      "Requirement already satisfied: six>=1.11.0 in c:\\users\\joshuacubero\\appdata\\local\\anaconda3\\lib\\site-packages (from azure-core>=1.31.0->azure-keyvault-secrets) (1.16.0)\n",
      "Requirement already satisfied: cffi>=1.12 in c:\\users\\joshuacubero\\appdata\\local\\anaconda3\\lib\\site-packages (from cryptography>=2.5->azure-identity) (1.15.1)\n",
      "Requirement already satisfied: PyJWT[crypto]<3,>=1.0.0 in c:\\users\\joshuacubero\\appdata\\local\\anaconda3\\lib\\site-packages (from msal>=1.24.0->azure-identity) (2.4.0)\n",
      "Requirement already satisfied: portalocker<3,>=1.4 in c:\\users\\joshuacubero\\appdata\\local\\anaconda3\\lib\\site-packages (from msal-extensions>=0.3.0->azure-identity) (2.10.1)\n",
      "Requirement already satisfied: pycparser in c:\\users\\joshuacubero\\appdata\\local\\anaconda3\\lib\\site-packages (from cffi>=1.12->cryptography>=2.5->azure-identity) (2.21)\n",
      "Requirement already satisfied: pywin32>=226 in c:\\users\\joshuacubero\\appdata\\local\\anaconda3\\lib\\site-packages (from portalocker<3,>=1.4->msal-extensions>=0.3.0->azure-identity) (305.1)\n",
      "Requirement already satisfied: charset-normalizer<4,>=2 in c:\\users\\joshuacubero\\appdata\\local\\anaconda3\\lib\\site-packages (from requests>=2.21.0->azure-core>=1.31.0->azure-keyvault-secrets) (2.0.4)\n",
      "Requirement already satisfied: idna<4,>=2.5 in c:\\users\\joshuacubero\\appdata\\local\\anaconda3\\lib\\site-packages (from requests>=2.21.0->azure-core>=1.31.0->azure-keyvault-secrets) (3.4)\n",
      "Requirement already satisfied: urllib3<3,>=1.21.1 in c:\\users\\joshuacubero\\appdata\\local\\anaconda3\\lib\\site-packages (from requests>=2.21.0->azure-core>=1.31.0->azure-keyvault-secrets) (1.26.16)\n",
      "Requirement already satisfied: certifi>=2017.4.17 in c:\\users\\joshuacubero\\appdata\\local\\anaconda3\\lib\\site-packages (from requests>=2.21.0->azure-core>=1.31.0->azure-keyvault-secrets) (2024.2.2)\n",
      "Using cached azure_keyvault_secrets-4.10.0-py3-none-any.whl (125 kB)\n",
      "Using cached azure_cosmos-4.9.0-py3-none-any.whl (303 kB)\n",
      "Downloading azure_core-1.35.1-py3-none-any.whl (211 kB)\n",
      "   ---------------------------------------- 0.0/211.8 kB ? eta -:--:--\n",
      "   --------------------------------------- 211.8/211.8 kB 12.6 MB/s eta 0:00:00\n",
      "Installing collected packages: azure-core, azure-keyvault-secrets, azure-cosmos\n",
      "  Attempting uninstall: azure-core\n",
      "    Found existing installation: azure-core 1.30.2\n",
      "    Uninstalling azure-core-1.30.2:\n",
      "      Successfully uninstalled azure-core-1.30.2\n",
      "Successfully installed azure-core-1.35.1 azure-cosmos-4.9.0 azure-keyvault-secrets-4.10.0\n"
     ]
    }
   ],
   "source": [
    "!pip install azure-keyvault-secrets azure-identity azure-cosmos"
   ]
  },
  {
   "cell_type": "code",
   "execution_count": 3,
   "id": "0a78f6da",
   "metadata": {},
   "outputs": [],
   "source": [
    "from phase2_dapt_implementation.get_qa_data import get_papers"
   ]
  },
  {
   "cell_type": "code",
   "execution_count": 4,
   "id": "403f8e29",
   "metadata": {},
   "outputs": [
    {
     "name": "stdout",
     "output_type": "stream",
     "text": [
      "Getting credentials...\n",
      "Creating Key Vault client...\n",
      "Retrieving secrets...\n",
      "Read 5 items (offset: 0, limit: 5)\n",
      "[{'id': '1670906c97643a0887fad3ae2ac23d5ed4d48ad4463e8a6297d59a10c70ef770', 'paper_id': 'a9a654ea503386cbfd8bb119fc650cc3d08dc206', 'title': 'Revised Surgical CAse REport (SCARE) guideline: An update for the age of Artificial Intelligence', 'abstract': 'Introduction: Artificial intelligence (AI) is rapidly transforming healthcare and scientific publishing. Reporting guidelines need to be updated to take into account this advance. The SCARE Guideline 2025 update adds a new AI-focused domain to promote transparency, reproducibility, and ethical integrity in surgical case reports involving AI.\\n\\nMethods: A Delphi consensus exercise was conducted to update the SCARE guidelines. A panel of 49 surgical and scientific experts were invited to rate proposed new items. In round 1, participants scored each item on a 9-point Likert scale and provided feedback. Items not meeting consensus were revised or discarded.\\n\\nResults: A 94% response rate occurred amongst participants (46/49) in the first round. Ratings were analysed for agreement levels, and consensus was reached on all six proposed AI-related items. A revised SCARE checklist is presented which incorporates these new AI related items. Authors are now expected to disclose AI involvement not only in patient care but also in manuscript preparation, as exemplified by this paper.\\n\\nConclusion: The SCARE 2025 guideline provides an up-to-date framework for surgical case reports in the era of AI. Through a robust consensus process, we have added specific reporting criteria for AI to ensure that any use of artificial intelligence in a case report is clearly documented, explained and discussed including with respect to bias and ethics. This update will help maintain the quality, transparency, and clinical relevance of case reports, ultimately improving their educational value and trustworthiness for the surgical community.', 'authors': ['Ahmed Kerwan', 'A. Al-Jabir', 'Ginimol Mathew', 'C. Sohrabi', 'Rasha Rashid', 'T. Franchi', 'Maria Nicola', 'M. Agha', 'R. Agha'], 'year': 2025, 'venue': 'Premier Journal of Science', 'citation_count': 271, 'url': 'https://www.semanticscholar.org/paper/a9a654ea503386cbfd8bb119fc650cc3d08dc206', 'external_ids': {'DOI': '10.70389/pjs.100079', 'CorpusId': 278831210}, 'doi': '10.70389/pjs.100079', 'topic': 'artificial intelligence', 'ingested_at': '2025-08-14T23:54:55.179450', '_rid': 'nw0sALzVQPEBAAAAAAAAAA==', '_self': 'dbs/nw0sAA==/colls/nw0sALzVQPE=/docs/nw0sALzVQPEBAAAAAAAAAA==/', '_etag': '\"5f02d61e-0000-0200-0000-689e77510000\"', '_attachments': 'attachments/', '_ts': 1755215697}, {'id': '3b4529a11ccb3d12c0260b089c341fef6a7dac7ecd36adf22bfc2ddffa6ac739', 'paper_id': '697ba06bfcabbbde6292d979b87b2642115f1099', 'title': 'ARTIFICIAL INTELLIGENCE IN EDUCATION: CHALLENGES AND OPPORTUNITIES FOR SUSTAINABLE DEVELOPMENT', 'abstract': 'The article analyzes the role of artificial intelligence (AI) in the transformation of the educational sphere in the context of achieving the Sustainable Development Goals (SDGs). The purpose of the study is a comprehensive assessment of the potential benefits and risks of introducing AI into education in terms of their impact on sustainable development. Tasks include: identification of key AI application opportunities to improve the quality, accessibility, and inclusivity of education (SDG 4); analysis of issues related to ethics, algorithm bias, digital inequality, and the need for retraining; assessment of the impact of AI on the formation of competencies necessary for a sustainable future. The results show the significant potential of AI in personalizing learning, automating routine tasks, and providing access to knowledge, but also reveal serious risks of exacerbating social inequality (SDG 10) and ethical dilemmas. The scientific novelty lies in the systematic consideration of the relationship between the introduction of AI in education and the achievement of the SDGs, offering a balanced view of the challenges and opportunities. The practical significance lies in the formulation of recommendations for policy makers, educators, and developers on responsible and sustainability-oriented implementation of AI in educational systems.', 'authors': ['S. A. Vakhabova', 'Valery V. Kosulin', 'Ana Zizaeva'], 'year': 2025, 'venue': 'EKONOMIKA I UPRAVLENIE: PROBLEMY, RESHENIYA', 'citation_count': 244, 'url': 'https://www.semanticscholar.org/paper/697ba06bfcabbbde6292d979b87b2642115f1099', 'external_ids': {'DOI': '10.36871/ek.up.p.r.2025.05.09.020', 'CorpusId': 150157229}, 'doi': '10.36871/ek.up.p.r.2025.05.09.020', 'topic': 'artificial intelligence', 'ingested_at': '2025-08-14T23:54:55.179468', '_rid': 'nw0sALzVQPECAAAAAAAAAA==', '_self': 'dbs/nw0sAA==/colls/nw0sALzVQPE=/docs/nw0sALzVQPECAAAAAAAAAA==/', '_etag': '\"5f02dc1e-0000-0200-0000-689e77510000\"', '_attachments': 'attachments/', '_ts': 1755215697}, {'id': '3aa50bb6970e7a5b5ee400ee06636989394b2260e27be5be1b4d2f4c71014de3', 'paper_id': '1e2f50c030a85d3b8ac6ae8218a625ed76723da0', 'title': 'Artificial intelligence in drug development.', 'abstract': None, 'authors': ['Kang Zhang', 'Xin Yang', 'Yifei Wang', 'Yunfang Yu', 'Niu Huang', 'Gen Li', 'Xiaokun Li', 'Joseph C Wu', 'Shengyong Yang'], 'year': 2025, 'venue': 'Nature Network Boston', 'citation_count': 55, 'url': 'https://www.semanticscholar.org/paper/1e2f50c030a85d3b8ac6ae8218a625ed76723da0', 'external_ids': {'DOI': '10.1038/s41591-024-03434-4', 'CorpusId': 275752931, 'PubMed': '39833407'}, 'doi': '10.1038/s41591-024-03434-4', 'topic': 'artificial intelligence', 'ingested_at': '2025-08-14T23:54:55.179476', '_rid': 'nw0sALzVQPEDAAAAAAAAAA==', '_self': 'dbs/nw0sAA==/colls/nw0sALzVQPE=/docs/nw0sALzVQPEDAAAAAAAAAA==/', '_etag': '\"5f02e11e-0000-0200-0000-689e77510000\"', '_attachments': 'attachments/', '_ts': 1755215697}, {'id': '3271f8e87c62659a1a2432df5ad52234cef1f403a11a9bc510ee7923718baf0e', 'paper_id': 'c4e5f756d5cd56b55a315325ef45ab55ec3bcdac', 'title': 'Towards conversational diagnostic artificial intelligence', 'abstract': 'At the heart of medicine lies physician–patient dialogue, where skillful history-taking enables effective diagnosis, management and enduring trust1,2. Artificial intelligence (AI) systems capable of diagnostic dialogue could increase accessibility and quality of care. However, approximating clinicians’ expertise is an outstanding challenge. Here we introduce AMIE (Articulate Medical Intelligence Explorer), a large language model (LLM)-based AI system optimized for diagnostic dialogue. AMIE uses a self-play-based3 simulated environment with automated feedback for scaling learning across disease conditions, specialties and contexts. We designed a framework for evaluating clinically meaningful axes of performance, including history-taking, diagnostic accuracy, management, communication skills and empathy. We compared AMIE’s performance to that of primary care physicians in a randomized, double-blind crossover study of text-based consultations with validated patient-actors similar to objective structured clinical examination4,5. The study included 159 case scenarios from providers in Canada, the United Kingdom and India, 20 primary care physicians compared to AMIE, and evaluations by specialist physicians and patient-actors. AMIE demonstrated greater diagnostic accuracy and superior performance on 30 out of 32 axes according to the specialist physicians and 25 out of 26 axes according to the patient-actors. Our research has several limitations and should be interpreted with caution. Clinicians used synchronous text chat, which permits large-scale LLM–patient interactions, but this is unfamiliar in clinical practice. While further research is required before AMIE could be translated to real-world settings, the results represent a milestone towards conversational diagnostic AI.', 'authors': ['Tao Tu', 'M. Schaekermann', 'Anil Palepu', 'Khaled Saab', 'Jan Freyberg', 'Ryutaro Tanno', 'Amy Wang', 'Brenna Li', 'Mohamed Amin', 'Yong Cheng', 'Elahe Vedadi', 'Nenad Tomašev', 'Shekoofeh Azizi', 'Karan Singhal', 'Le Hou', 'Albert Webson', 'Kavita Kulkarni', 'S. Mahdavi', 'Christopher Semturs', 'Juraj Gottweis', 'Joelle Barral', 'Katherine Chou', 'Greg S. Corrado', 'Yossi Matias', 'A. Karthikesalingam', 'Vivek Natarajan'], 'year': 2025, 'venue': 'Nature', 'citation_count': 50, 'url': 'https://www.semanticscholar.org/paper/c4e5f756d5cd56b55a315325ef45ab55ec3bcdac', 'external_ids': {'PubMedCentral': '12158756', 'DOI': '10.1038/s41586-025-08866-7', 'CorpusId': 277665670, 'PubMed': '40205050'}, 'doi': '10.1038/s41586-025-08866-7', 'topic': 'artificial intelligence', 'ingested_at': '2025-08-14T23:54:55.179485', '_rid': 'nw0sALzVQPEEAAAAAAAAAA==', '_self': 'dbs/nw0sAA==/colls/nw0sALzVQPE=/docs/nw0sALzVQPEEAAAAAAAAAA==/', '_etag': '\"5f02ea1e-0000-0200-0000-689e77510000\"', '_attachments': 'attachments/', '_ts': 1755215697}, {'id': '3b23d36d0cdb65a3914f4cf94762446419f22bfcd4bc71712c90f3d61f72c550', 'paper_id': '788f90d3c54c1e592aa11f01296c0656ec6e41ff', 'title': 'ARTIFICIAL INTELLIGENCE (AI) IN EDUCATION: USING AI TOOLS FOR TEACHING AND LEARNING PROCESS', 'abstract': None, 'authors': ['Dr Akhilesh Saini', 'Mrs. Deepika Sharma', 'Mrs. Kritika Tripathi'], 'year': 2025, 'venue': 'IJIREEICE', 'citation_count': 79, 'url': 'https://www.semanticscholar.org/paper/788f90d3c54c1e592aa11f01296c0656ec6e41ff', 'external_ids': {'DOI': '10.17148/ijireeice.2025.13206', 'CorpusId': 276524788}, 'doi': '10.17148/ijireeice.2025.13206', 'topic': 'artificial intelligence', 'ingested_at': '2025-08-14T23:54:55.179490', '_rid': 'nw0sALzVQPEFAAAAAAAAAA==', '_self': 'dbs/nw0sAA==/colls/nw0sALzVQPE=/docs/nw0sALzVQPEFAAAAAAAAAA==/', '_etag': '\"5f02f31e-0000-0200-0000-689e77510000\"', '_attachments': 'attachments/', '_ts': 1755215697}]\n"
     ]
    },
    {
     "data": {
      "text/plain": [
       "[{'id': '1670906c97643a0887fad3ae2ac23d5ed4d48ad4463e8a6297d59a10c70ef770',\n",
       "  'paper_id': 'a9a654ea503386cbfd8bb119fc650cc3d08dc206',\n",
       "  'title': 'Revised Surgical CAse REport (SCARE) guideline: An update for the age of Artificial Intelligence',\n",
       "  'abstract': 'Introduction: Artificial intelligence (AI) is rapidly transforming healthcare and scientific publishing. Reporting guidelines need to be updated to take into account this advance. The SCARE Guideline 2025 update adds a new AI-focused domain to promote transparency, reproducibility, and ethical integrity in surgical case reports involving AI.\\n\\nMethods: A Delphi consensus exercise was conducted to update the SCARE guidelines. A panel of 49 surgical and scientific experts were invited to rate proposed new items. In round 1, participants scored each item on a 9-point Likert scale and provided feedback. Items not meeting consensus were revised or discarded.\\n\\nResults: A 94% response rate occurred amongst participants (46/49) in the first round. Ratings were analysed for agreement levels, and consensus was reached on all six proposed AI-related items. A revised SCARE checklist is presented which incorporates these new AI related items. Authors are now expected to disclose AI involvement not only in patient care but also in manuscript preparation, as exemplified by this paper.\\n\\nConclusion: The SCARE 2025 guideline provides an up-to-date framework for surgical case reports in the era of AI. Through a robust consensus process, we have added specific reporting criteria for AI to ensure that any use of artificial intelligence in a case report is clearly documented, explained and discussed including with respect to bias and ethics. This update will help maintain the quality, transparency, and clinical relevance of case reports, ultimately improving their educational value and trustworthiness for the surgical community.',\n",
       "  'authors': ['Ahmed Kerwan',\n",
       "   'A. Al-Jabir',\n",
       "   'Ginimol Mathew',\n",
       "   'C. Sohrabi',\n",
       "   'Rasha Rashid',\n",
       "   'T. Franchi',\n",
       "   'Maria Nicola',\n",
       "   'M. Agha',\n",
       "   'R. Agha'],\n",
       "  'year': 2025,\n",
       "  'venue': 'Premier Journal of Science',\n",
       "  'citation_count': 271,\n",
       "  'url': 'https://www.semanticscholar.org/paper/a9a654ea503386cbfd8bb119fc650cc3d08dc206',\n",
       "  'external_ids': {'DOI': '10.70389/pjs.100079', 'CorpusId': 278831210},\n",
       "  'doi': '10.70389/pjs.100079',\n",
       "  'topic': 'artificial intelligence',\n",
       "  'ingested_at': '2025-08-14T23:54:55.179450',\n",
       "  '_rid': 'nw0sALzVQPEBAAAAAAAAAA==',\n",
       "  '_self': 'dbs/nw0sAA==/colls/nw0sALzVQPE=/docs/nw0sALzVQPEBAAAAAAAAAA==/',\n",
       "  '_etag': '\"5f02d61e-0000-0200-0000-689e77510000\"',\n",
       "  '_attachments': 'attachments/',\n",
       "  '_ts': 1755215697},\n",
       " {'id': '3b4529a11ccb3d12c0260b089c341fef6a7dac7ecd36adf22bfc2ddffa6ac739',\n",
       "  'paper_id': '697ba06bfcabbbde6292d979b87b2642115f1099',\n",
       "  'title': 'ARTIFICIAL INTELLIGENCE IN EDUCATION: CHALLENGES AND OPPORTUNITIES FOR SUSTAINABLE DEVELOPMENT',\n",
       "  'abstract': 'The article analyzes the role of artificial intelligence (AI) in the transformation of the educational sphere in the context of achieving the Sustainable Development Goals (SDGs). The purpose of the study is a comprehensive assessment of the potential benefits and risks of introducing AI into education in terms of their impact on sustainable development. Tasks include: identification of key AI application opportunities to improve the quality, accessibility, and inclusivity of education (SDG 4); analysis of issues related to ethics, algorithm bias, digital inequality, and the need for retraining; assessment of the impact of AI on the formation of competencies necessary for a sustainable future. The results show the significant potential of AI in personalizing learning, automating routine tasks, and providing access to knowledge, but also reveal serious risks of exacerbating social inequality (SDG 10) and ethical dilemmas. The scientific novelty lies in the systematic consideration of the relationship between the introduction of AI in education and the achievement of the SDGs, offering a balanced view of the challenges and opportunities. The practical significance lies in the formulation of recommendations for policy makers, educators, and developers on responsible and sustainability-oriented implementation of AI in educational systems.',\n",
       "  'authors': ['S. A. Vakhabova', 'Valery V. Kosulin', 'Ana Zizaeva'],\n",
       "  'year': 2025,\n",
       "  'venue': 'EKONOMIKA I UPRAVLENIE: PROBLEMY, RESHENIYA',\n",
       "  'citation_count': 244,\n",
       "  'url': 'https://www.semanticscholar.org/paper/697ba06bfcabbbde6292d979b87b2642115f1099',\n",
       "  'external_ids': {'DOI': '10.36871/ek.up.p.r.2025.05.09.020',\n",
       "   'CorpusId': 150157229},\n",
       "  'doi': '10.36871/ek.up.p.r.2025.05.09.020',\n",
       "  'topic': 'artificial intelligence',\n",
       "  'ingested_at': '2025-08-14T23:54:55.179468',\n",
       "  '_rid': 'nw0sALzVQPECAAAAAAAAAA==',\n",
       "  '_self': 'dbs/nw0sAA==/colls/nw0sALzVQPE=/docs/nw0sALzVQPECAAAAAAAAAA==/',\n",
       "  '_etag': '\"5f02dc1e-0000-0200-0000-689e77510000\"',\n",
       "  '_attachments': 'attachments/',\n",
       "  '_ts': 1755215697},\n",
       " {'id': '3aa50bb6970e7a5b5ee400ee06636989394b2260e27be5be1b4d2f4c71014de3',\n",
       "  'paper_id': '1e2f50c030a85d3b8ac6ae8218a625ed76723da0',\n",
       "  'title': 'Artificial intelligence in drug development.',\n",
       "  'abstract': None,\n",
       "  'authors': ['Kang Zhang',\n",
       "   'Xin Yang',\n",
       "   'Yifei Wang',\n",
       "   'Yunfang Yu',\n",
       "   'Niu Huang',\n",
       "   'Gen Li',\n",
       "   'Xiaokun Li',\n",
       "   'Joseph C Wu',\n",
       "   'Shengyong Yang'],\n",
       "  'year': 2025,\n",
       "  'venue': 'Nature Network Boston',\n",
       "  'citation_count': 55,\n",
       "  'url': 'https://www.semanticscholar.org/paper/1e2f50c030a85d3b8ac6ae8218a625ed76723da0',\n",
       "  'external_ids': {'DOI': '10.1038/s41591-024-03434-4',\n",
       "   'CorpusId': 275752931,\n",
       "   'PubMed': '39833407'},\n",
       "  'doi': '10.1038/s41591-024-03434-4',\n",
       "  'topic': 'artificial intelligence',\n",
       "  'ingested_at': '2025-08-14T23:54:55.179476',\n",
       "  '_rid': 'nw0sALzVQPEDAAAAAAAAAA==',\n",
       "  '_self': 'dbs/nw0sAA==/colls/nw0sALzVQPE=/docs/nw0sALzVQPEDAAAAAAAAAA==/',\n",
       "  '_etag': '\"5f02e11e-0000-0200-0000-689e77510000\"',\n",
       "  '_attachments': 'attachments/',\n",
       "  '_ts': 1755215697},\n",
       " {'id': '3271f8e87c62659a1a2432df5ad52234cef1f403a11a9bc510ee7923718baf0e',\n",
       "  'paper_id': 'c4e5f756d5cd56b55a315325ef45ab55ec3bcdac',\n",
       "  'title': 'Towards conversational diagnostic artificial intelligence',\n",
       "  'abstract': 'At the heart of medicine lies physician–patient dialogue, where skillful history-taking enables effective diagnosis, management and enduring trust1,2. Artificial intelligence (AI) systems capable of diagnostic dialogue could increase accessibility and quality of care. However, approximating clinicians’ expertise is an outstanding challenge. Here we introduce AMIE (Articulate Medical Intelligence Explorer), a large language model (LLM)-based AI system optimized for diagnostic dialogue. AMIE uses a self-play-based3 simulated environment with automated feedback for scaling learning across disease conditions, specialties and contexts. We designed a framework for evaluating clinically meaningful axes of performance, including history-taking, diagnostic accuracy, management, communication skills and empathy. We compared AMIE’s performance to that of primary care physicians in a randomized, double-blind crossover study of text-based consultations with validated patient-actors similar to objective structured clinical examination4,5. The study included 159 case scenarios from providers in Canada, the United Kingdom and India, 20 primary care physicians compared to AMIE, and evaluations by specialist physicians and patient-actors. AMIE demonstrated greater diagnostic accuracy and superior performance on 30 out of 32 axes according to the specialist physicians and 25 out of 26 axes according to the patient-actors. Our research has several limitations and should be interpreted with caution. Clinicians used synchronous text chat, which permits large-scale LLM–patient interactions, but this is unfamiliar in clinical practice. While further research is required before AMIE could be translated to real-world settings, the results represent a milestone towards conversational diagnostic AI.',\n",
       "  'authors': ['Tao Tu',\n",
       "   'M. Schaekermann',\n",
       "   'Anil Palepu',\n",
       "   'Khaled Saab',\n",
       "   'Jan Freyberg',\n",
       "   'Ryutaro Tanno',\n",
       "   'Amy Wang',\n",
       "   'Brenna Li',\n",
       "   'Mohamed Amin',\n",
       "   'Yong Cheng',\n",
       "   'Elahe Vedadi',\n",
       "   'Nenad Tomašev',\n",
       "   'Shekoofeh Azizi',\n",
       "   'Karan Singhal',\n",
       "   'Le Hou',\n",
       "   'Albert Webson',\n",
       "   'Kavita Kulkarni',\n",
       "   'S. Mahdavi',\n",
       "   'Christopher Semturs',\n",
       "   'Juraj Gottweis',\n",
       "   'Joelle Barral',\n",
       "   'Katherine Chou',\n",
       "   'Greg S. Corrado',\n",
       "   'Yossi Matias',\n",
       "   'A. Karthikesalingam',\n",
       "   'Vivek Natarajan'],\n",
       "  'year': 2025,\n",
       "  'venue': 'Nature',\n",
       "  'citation_count': 50,\n",
       "  'url': 'https://www.semanticscholar.org/paper/c4e5f756d5cd56b55a315325ef45ab55ec3bcdac',\n",
       "  'external_ids': {'PubMedCentral': '12158756',\n",
       "   'DOI': '10.1038/s41586-025-08866-7',\n",
       "   'CorpusId': 277665670,\n",
       "   'PubMed': '40205050'},\n",
       "  'doi': '10.1038/s41586-025-08866-7',\n",
       "  'topic': 'artificial intelligence',\n",
       "  'ingested_at': '2025-08-14T23:54:55.179485',\n",
       "  '_rid': 'nw0sALzVQPEEAAAAAAAAAA==',\n",
       "  '_self': 'dbs/nw0sAA==/colls/nw0sALzVQPE=/docs/nw0sALzVQPEEAAAAAAAAAA==/',\n",
       "  '_etag': '\"5f02ea1e-0000-0200-0000-689e77510000\"',\n",
       "  '_attachments': 'attachments/',\n",
       "  '_ts': 1755215697},\n",
       " {'id': '3b23d36d0cdb65a3914f4cf94762446419f22bfcd4bc71712c90f3d61f72c550',\n",
       "  'paper_id': '788f90d3c54c1e592aa11f01296c0656ec6e41ff',\n",
       "  'title': 'ARTIFICIAL INTELLIGENCE (AI) IN EDUCATION: USING AI TOOLS FOR TEACHING AND LEARNING PROCESS',\n",
       "  'abstract': None,\n",
       "  'authors': ['Dr Akhilesh Saini',\n",
       "   'Mrs. Deepika Sharma',\n",
       "   'Mrs. Kritika Tripathi'],\n",
       "  'year': 2025,\n",
       "  'venue': 'IJIREEICE',\n",
       "  'citation_count': 79,\n",
       "  'url': 'https://www.semanticscholar.org/paper/788f90d3c54c1e592aa11f01296c0656ec6e41ff',\n",
       "  'external_ids': {'DOI': '10.17148/ijireeice.2025.13206',\n",
       "   'CorpusId': 276524788},\n",
       "  'doi': '10.17148/ijireeice.2025.13206',\n",
       "  'topic': 'artificial intelligence',\n",
       "  'ingested_at': '2025-08-14T23:54:55.179490',\n",
       "  '_rid': 'nw0sALzVQPEFAAAAAAAAAA==',\n",
       "  '_self': 'dbs/nw0sAA==/colls/nw0sALzVQPE=/docs/nw0sALzVQPEFAAAAAAAAAA==/',\n",
       "  '_etag': '\"5f02f31e-0000-0200-0000-689e77510000\"',\n",
       "  '_attachments': 'attachments/',\n",
       "  '_ts': 1755215697}]"
      ]
     },
     "execution_count": 4,
     "metadata": {},
     "output_type": "execute_result"
    }
   ],
   "source": [
    "get_papers(5)"
   ]
  },
  {
   "cell_type": "code",
   "execution_count": 5,
   "id": "e97b8de9",
   "metadata": {},
   "outputs": [],
   "source": [
    "from phase2_dapt_implementation.get_qa_data import process_papers_to_blob"
   ]
  },
  {
   "cell_type": "code",
   "execution_count": 7,
   "id": "41c6286b",
   "metadata": {},
   "outputs": [
    {
     "name": "stdout",
     "output_type": "stream",
     "text": [
      "Getting credentials...\n",
      "Creating Key Vault client...\n",
      "Retrieving secrets...\n",
      "Read 45 items (offset: 0, limit: 45)\n",
      "[{'id': '1670906c97643a0887fad3ae2ac23d5ed4d48ad4463e8a6297d59a10c70ef770', 'paper_id': 'a9a654ea503386cbfd8bb119fc650cc3d08dc206', 'title': 'Revised Surgical CAse REport (SCARE) guideline: An update for the age of Artificial Intelligence', 'abstract': 'Introduction: Artificial intelligence (AI) is rapidly transforming healthcare and scientific publishing. Reporting guidelines need to be updated to take into account this advance. The SCARE Guideline 2025 update adds a new AI-focused domain to promote transparency, reproducibility, and ethical integrity in surgical case reports involving AI.\\n\\nMethods: A Delphi consensus exercise was conducted to update the SCARE guidelines. A panel of 49 surgical and scientific experts were invited to rate proposed new items. In round 1, participants scored each item on a 9-point Likert scale and provided feedback. Items not meeting consensus were revised or discarded.\\n\\nResults: A 94% response rate occurred amongst participants (46/49) in the first round. Ratings were analysed for agreement levels, and consensus was reached on all six proposed AI-related items. A revised SCARE checklist is presented which incorporates these new AI related items. Authors are now expected to disclose AI involvement not only in patient care but also in manuscript preparation, as exemplified by this paper.\\n\\nConclusion: The SCARE 2025 guideline provides an up-to-date framework for surgical case reports in the era of AI. Through a robust consensus process, we have added specific reporting criteria for AI to ensure that any use of artificial intelligence in a case report is clearly documented, explained and discussed including with respect to bias and ethics. This update will help maintain the quality, transparency, and clinical relevance of case reports, ultimately improving their educational value and trustworthiness for the surgical community.', 'authors': ['Ahmed Kerwan', 'A. Al-Jabir', 'Ginimol Mathew', 'C. Sohrabi', 'Rasha Rashid', 'T. Franchi', 'Maria Nicola', 'M. Agha', 'R. Agha'], 'year': 2025, 'venue': 'Premier Journal of Science', 'citation_count': 271, 'url': 'https://www.semanticscholar.org/paper/a9a654ea503386cbfd8bb119fc650cc3d08dc206', 'external_ids': {'DOI': '10.70389/pjs.100079', 'CorpusId': 278831210}, 'doi': '10.70389/pjs.100079', 'topic': 'artificial intelligence', 'ingested_at': '2025-08-14T23:54:55.179450', '_rid': 'nw0sALzVQPEBAAAAAAAAAA==', '_self': 'dbs/nw0sAA==/colls/nw0sALzVQPE=/docs/nw0sALzVQPEBAAAAAAAAAA==/', '_etag': '\"5f02d61e-0000-0200-0000-689e77510000\"', '_attachments': 'attachments/', '_ts': 1755215697}, {'id': '3b4529a11ccb3d12c0260b089c341fef6a7dac7ecd36adf22bfc2ddffa6ac739', 'paper_id': '697ba06bfcabbbde6292d979b87b2642115f1099', 'title': 'ARTIFICIAL INTELLIGENCE IN EDUCATION: CHALLENGES AND OPPORTUNITIES FOR SUSTAINABLE DEVELOPMENT', 'abstract': 'The article analyzes the role of artificial intelligence (AI) in the transformation of the educational sphere in the context of achieving the Sustainable Development Goals (SDGs). The purpose of the study is a comprehensive assessment of the potential benefits and risks of introducing AI into education in terms of their impact on sustainable development. Tasks include: identification of key AI application opportunities to improve the quality, accessibility, and inclusivity of education (SDG 4); analysis of issues related to ethics, algorithm bias, digital inequality, and the need for retraining; assessment of the impact of AI on the formation of competencies necessary for a sustainable future. The results show the significant potential of AI in personalizing learning, automating routine tasks, and providing access to knowledge, but also reveal serious risks of exacerbating social inequality (SDG 10) and ethical dilemmas. The scientific novelty lies in the systematic consideration of the relationship between the introduction of AI in education and the achievement of the SDGs, offering a balanced view of the challenges and opportunities. The practical significance lies in the formulation of recommendations for policy makers, educators, and developers on responsible and sustainability-oriented implementation of AI in educational systems.', 'authors': ['S. A. Vakhabova', 'Valery V. Kosulin', 'Ana Zizaeva'], 'year': 2025, 'venue': 'EKONOMIKA I UPRAVLENIE: PROBLEMY, RESHENIYA', 'citation_count': 244, 'url': 'https://www.semanticscholar.org/paper/697ba06bfcabbbde6292d979b87b2642115f1099', 'external_ids': {'DOI': '10.36871/ek.up.p.r.2025.05.09.020', 'CorpusId': 150157229}, 'doi': '10.36871/ek.up.p.r.2025.05.09.020', 'topic': 'artificial intelligence', 'ingested_at': '2025-08-14T23:54:55.179468', '_rid': 'nw0sALzVQPECAAAAAAAAAA==', '_self': 'dbs/nw0sAA==/colls/nw0sALzVQPE=/docs/nw0sALzVQPECAAAAAAAAAA==/', '_etag': '\"5f02dc1e-0000-0200-0000-689e77510000\"', '_attachments': 'attachments/', '_ts': 1755215697}, {'id': '3aa50bb6970e7a5b5ee400ee06636989394b2260e27be5be1b4d2f4c71014de3', 'paper_id': '1e2f50c030a85d3b8ac6ae8218a625ed76723da0', 'title': 'Artificial intelligence in drug development.', 'abstract': None, 'authors': ['Kang Zhang', 'Xin Yang', 'Yifei Wang', 'Yunfang Yu', 'Niu Huang', 'Gen Li', 'Xiaokun Li', 'Joseph C Wu', 'Shengyong Yang'], 'year': 2025, 'venue': 'Nature Network Boston', 'citation_count': 55, 'url': 'https://www.semanticscholar.org/paper/1e2f50c030a85d3b8ac6ae8218a625ed76723da0', 'external_ids': {'DOI': '10.1038/s41591-024-03434-4', 'CorpusId': 275752931, 'PubMed': '39833407'}, 'doi': '10.1038/s41591-024-03434-4', 'topic': 'artificial intelligence', 'ingested_at': '2025-08-14T23:54:55.179476', '_rid': 'nw0sALzVQPEDAAAAAAAAAA==', '_self': 'dbs/nw0sAA==/colls/nw0sALzVQPE=/docs/nw0sALzVQPEDAAAAAAAAAA==/', '_etag': '\"5f02e11e-0000-0200-0000-689e77510000\"', '_attachments': 'attachments/', '_ts': 1755215697}, {'id': '3271f8e87c62659a1a2432df5ad52234cef1f403a11a9bc510ee7923718baf0e', 'paper_id': 'c4e5f756d5cd56b55a315325ef45ab55ec3bcdac', 'title': 'Towards conversational diagnostic artificial intelligence', 'abstract': 'At the heart of medicine lies physician–patient dialogue, where skillful history-taking enables effective diagnosis, management and enduring trust1,2. Artificial intelligence (AI) systems capable of diagnostic dialogue could increase accessibility and quality of care. However, approximating clinicians’ expertise is an outstanding challenge. Here we introduce AMIE (Articulate Medical Intelligence Explorer), a large language model (LLM)-based AI system optimized for diagnostic dialogue. AMIE uses a self-play-based3 simulated environment with automated feedback for scaling learning across disease conditions, specialties and contexts. We designed a framework for evaluating clinically meaningful axes of performance, including history-taking, diagnostic accuracy, management, communication skills and empathy. We compared AMIE’s performance to that of primary care physicians in a randomized, double-blind crossover study of text-based consultations with validated patient-actors similar to objective structured clinical examination4,5. The study included 159 case scenarios from providers in Canada, the United Kingdom and India, 20 primary care physicians compared to AMIE, and evaluations by specialist physicians and patient-actors. AMIE demonstrated greater diagnostic accuracy and superior performance on 30 out of 32 axes according to the specialist physicians and 25 out of 26 axes according to the patient-actors. Our research has several limitations and should be interpreted with caution. Clinicians used synchronous text chat, which permits large-scale LLM–patient interactions, but this is unfamiliar in clinical practice. While further research is required before AMIE could be translated to real-world settings, the results represent a milestone towards conversational diagnostic AI.', 'authors': ['Tao Tu', 'M. Schaekermann', 'Anil Palepu', 'Khaled Saab', 'Jan Freyberg', 'Ryutaro Tanno', 'Amy Wang', 'Brenna Li', 'Mohamed Amin', 'Yong Cheng', 'Elahe Vedadi', 'Nenad Tomašev', 'Shekoofeh Azizi', 'Karan Singhal', 'Le Hou', 'Albert Webson', 'Kavita Kulkarni', 'S. Mahdavi', 'Christopher Semturs', 'Juraj Gottweis', 'Joelle Barral', 'Katherine Chou', 'Greg S. Corrado', 'Yossi Matias', 'A. Karthikesalingam', 'Vivek Natarajan'], 'year': 2025, 'venue': 'Nature', 'citation_count': 50, 'url': 'https://www.semanticscholar.org/paper/c4e5f756d5cd56b55a315325ef45ab55ec3bcdac', 'external_ids': {'PubMedCentral': '12158756', 'DOI': '10.1038/s41586-025-08866-7', 'CorpusId': 277665670, 'PubMed': '40205050'}, 'doi': '10.1038/s41586-025-08866-7', 'topic': 'artificial intelligence', 'ingested_at': '2025-08-14T23:54:55.179485', '_rid': 'nw0sALzVQPEEAAAAAAAAAA==', '_self': 'dbs/nw0sAA==/colls/nw0sALzVQPE=/docs/nw0sALzVQPEEAAAAAAAAAA==/', '_etag': '\"5f02ea1e-0000-0200-0000-689e77510000\"', '_attachments': 'attachments/', '_ts': 1755215697}, {'id': '3b23d36d0cdb65a3914f4cf94762446419f22bfcd4bc71712c90f3d61f72c550', 'paper_id': '788f90d3c54c1e592aa11f01296c0656ec6e41ff', 'title': 'ARTIFICIAL INTELLIGENCE (AI) IN EDUCATION: USING AI TOOLS FOR TEACHING AND LEARNING PROCESS', 'abstract': None, 'authors': ['Dr Akhilesh Saini', 'Mrs. Deepika Sharma', 'Mrs. Kritika Tripathi'], 'year': 2025, 'venue': 'IJIREEICE', 'citation_count': 79, 'url': 'https://www.semanticscholar.org/paper/788f90d3c54c1e592aa11f01296c0656ec6e41ff', 'external_ids': {'DOI': '10.17148/ijireeice.2025.13206', 'CorpusId': 276524788}, 'doi': '10.17148/ijireeice.2025.13206', 'topic': 'artificial intelligence', 'ingested_at': '2025-08-14T23:54:55.179490', '_rid': 'nw0sALzVQPEFAAAAAAAAAA==', '_self': 'dbs/nw0sAA==/colls/nw0sALzVQPE=/docs/nw0sALzVQPEFAAAAAAAAAA==/', '_etag': '\"5f02f31e-0000-0200-0000-689e77510000\"', '_attachments': 'attachments/', '_ts': 1755215697}, {'id': '175e23611ed7a8aa2851480c9d3a8a7eff23dd9e963e4424c750884794c10631', 'paper_id': '642bc6776f6032db4695cc8158caef4b24529436', 'title': 'Neuro-Symbolic Artificial Intelligence', 'abstract': None, 'authors': ['P. Hitzler', 'Md Kamruzzaman Sarker'], 'year': 2025, 'venue': 'Studies in Computational Intelligence', 'citation_count': 107, 'url': 'https://www.semanticscholar.org/paper/642bc6776f6032db4695cc8158caef4b24529436', 'external_ids': {'DOI': '10.1007/978-981-97-8171-3', 'CorpusId': 245698629}, 'doi': '10.1007/978-981-97-8171-3', 'topic': 'artificial intelligence', 'ingested_at': '2025-08-14T23:54:55.179495', '_rid': 'nw0sALzVQPEGAAAAAAAAAA==', '_self': 'dbs/nw0sAA==/colls/nw0sALzVQPE=/docs/nw0sALzVQPEGAAAAAAAAAA==/', '_etag': '\"5f02f91e-0000-0200-0000-689e77510000\"', '_attachments': 'attachments/', '_ts': 1755215697}, {'id': 'e1e513ca41a3a1fbfe5a4449298634d67e055ab368590f14b36d5929e49b4ed2', 'paper_id': 'd5f01f1c524276b84f4fee8d433eb48069bc7798', 'title': 'Integrating artificial intelligence in energy transition: A comprehensive review', 'abstract': None, 'authors': ['Qiang Wang', 'Yuanfan Li', 'Rongrong Li'], 'year': 2025, 'venue': 'Energy Strategy Reviews', 'citation_count': 55, 'url': 'https://www.semanticscholar.org/paper/d5f01f1c524276b84f4fee8d433eb48069bc7798', 'external_ids': {'DOI': '10.1016/j.esr.2024.101600', 'CorpusId': 275344750}, 'doi': '10.1016/j.esr.2024.101600', 'topic': 'artificial intelligence', 'ingested_at': '2025-08-14T23:54:55.179500', '_rid': 'nw0sALzVQPEHAAAAAAAAAA==', '_self': 'dbs/nw0sAA==/colls/nw0sALzVQPE=/docs/nw0sALzVQPEHAAAAAAAAAA==/', '_etag': '\"5f02fb1e-0000-0200-0000-689e77510000\"', '_attachments': 'attachments/', '_ts': 1755215697}, {'id': '7a54178be7343063c6656e77867bb9d67a8d8fdf75da49a66dd9ed5eae27f6af', 'paper_id': '7fd8fb8b5cbe2c6f80d3897da5fb80ba5cc90cb7', 'title': 'Artificial Intelligence in Financial and Supply Chain Optimization: Predictive Analytics for Business Growth and Market Stability in The USA', 'abstract': 'This study investigates the application of Artificial Intelligence (AI) and Machine Learning (ML) in optimizing supply chain operations and financial forecasting in the USA. The research examines how AI-driven predictive analytics can foster business growth and stabilize markets. A diverse set of ML models is employed to address various challenges: Long Short-Term Memory (LSTM) networks are used for sequence forecasting in financial and economic domains, while Logistic Regression, Random Forest, and Boosting techniques support fraud detection. Additionally, autoencoders and Isolation Forest algorithms are applied to identify unusual financial transactions, and ARIMA models forecast demand spikes and seasonality. For logistics optimization, Reinforcement Learning ( Deep Q-Networks) is used to improve route planning, and Neural Networks predict optimal restocking periods based on demand patterns. XGBoost is used to assess customer price sensitivity and optimize pricing strategies. The performance of forecasting models is evaluated using Root Mean Squared Error (RMSE) and Mean Absolute Percentage Error (MAPE). In contrast, fraud detection effectiveness is measured through Precision, Recall, F1-score, and the Area Under the Curve (AUC-ROC). Logistics models are assessed by Total Delivery Time, Cost Reduction, and Efficiency Gains while restocking predictions are validated via accuracy, Mean Squared Error (MSE), and inventory turnover rates. Pricing strategies are evaluated based on Revenue Impact, Elasticity Metrics, and Customer Retention Rates.', 'authors': ['T. Olola', 'Timilehin Isaiah Olatunde'], 'year': 2025, 'venue': 'International Journal of Applied Sciences and Radiation Research', 'citation_count': 42, 'url': 'https://www.semanticscholar.org/paper/7fd8fb8b5cbe2c6f80d3897da5fb80ba5cc90cb7', 'external_ids': {'DOI': '10.22399/ijasrar.18', 'CorpusId': 276882216}, 'doi': '10.22399/ijasrar.18', 'topic': 'artificial intelligence', 'ingested_at': '2025-08-14T23:54:55.179506', '_rid': 'nw0sALzVQPEIAAAAAAAAAA==', '_self': 'dbs/nw0sAA==/colls/nw0sALzVQPE=/docs/nw0sALzVQPEIAAAAAAAAAA==/', '_etag': '\"5f02011f-0000-0200-0000-689e77510000\"', '_attachments': 'attachments/', '_ts': 1755215697}, {'id': '9727371a1246511cfb75d2400ebad91a548f24825a7e88b66f4cc25769132948', 'paper_id': '20e67128339dcbcedcdedbf99c9c7e7daae7f784', 'title': 'Technological innovations in agriculture: the application of Blockchain and Artificial Intelligence for grain traceability and protection', 'abstract': 'In recent years, the convergence between blockchain and artificial intelligence (AI) has led to significant innovations in the agricultural sector, particularly in the traceability and protection of grains. These emerging technologies have the potential to transform the agricultural supply chain, providing greater transparency, security, and efficiency. Blockchain technology, with its ability to create immutable and transparent records, is widely applied to trace the origin and movement of grains from production to the final consumer. At the same time, AI plays a key role in analyzing large volumes of data, allowing for the prediction of risks and the dynamic adaptation of agricultural insurance contracts. Additionally, the combination of blockchain and AI facilitates the creation of new financing models, such as smart contracts, which automatically execute when certain conditions are met. These advancements help ensure the quality of grains, combat fraud, optimize logistics processes, and respond more swiftly to unforeseen events. The integration of these technologies also contributes to more sustainable, efficient, and resilient agriculture, addressing challenges such as climate change, price volatility, and the increasing demand for transparency in the supply chain. The combined use of blockchain and AI is reshaping grain production and traceability, providing a safer and more efficient system for the future of agriculture, particularly in the United States.', 'authors': ['Rafael Elias Venturini'], 'year': 2025, 'venue': 'Brazilian Journal of Development', 'citation_count': 34, 'url': 'https://www.semanticscholar.org/paper/20e67128339dcbcedcdedbf99c9c7e7daae7f784', 'external_ids': {'DOI': '10.34117/bjdv11n3-007', 'CorpusId': 276868851}, 'doi': '10.34117/bjdv11n3-007', 'topic': 'artificial intelligence', 'ingested_at': '2025-08-14T23:54:55.179514', '_rid': 'nw0sALzVQPEJAAAAAAAAAA==', '_self': 'dbs/nw0sAA==/colls/nw0sALzVQPE=/docs/nw0sALzVQPEJAAAAAAAAAA==/', '_etag': '\"5f02031f-0000-0200-0000-689e77510000\"', '_attachments': 'attachments/', '_ts': 1755215697}, {'id': 'e7d282d26fe8e153a7e437676bf241ea34eb62fe89245f46775e5984181ef7f9', 'paper_id': 'e7a5d33f66cf7c9107a5bfd1401ac1fac418905d', 'title': 'Does Artificial Intelligence (AI) enhance green economy efficiency? The role of green finance, trade openness, and R&D investment', 'abstract': 'Marine fisheries constitute a crucial component of global green development, where artificial intelligence (AI) plays an essential role in enhancing green economic efficiency associated with marine fisheries. This study utilizes panel data from 11 coastal provinces and municipalities in China from 2009 to 2020, employing the entropy method and the super-efficiency EBM model to calculate the AI index and the green economic efficiency of marine fisheries. Based on these calculations, we utilize fixed effects models, moderation effect models, and panel threshold models to examine the impact of AI on the green economic efficiency of marine fisheries. The study reveals that: (i) From 2009 to 2020, AI has significantly improved overall, while the green economic efficiency of marine fisheries has shown a fluctuating trend, with substantial regional disparities. (ii) AI significantly enhances the green economic efficiency of marine fisheries. (iii) Green finance, trade openness, and R&D investment act as crucial moderating variables, accelerating AI development and further improving the green economic efficiency of marine fisheries. (iv) The impact of AI on green economic efficiency varies across different intervals of green finance, trade openness, and R&D investment. These findings are crucial for understanding and advancing the informatization strategy of marine fisheries and hold significant implications for the sustainable development of global marine fisheries.', 'authors': ['Qiang Wang', 'Tingting Sun', 'Rongrong Li'], 'year': 2025, 'venue': 'Humanities and Social Sciences Communications', 'citation_count': 35, 'url': 'https://www.semanticscholar.org/paper/e7a5d33f66cf7c9107a5bfd1401ac1fac418905d', 'external_ids': {'DOI': '10.1057/s41599-024-04319-0', 'CorpusId': 275320529}, 'doi': '10.1057/s41599-024-04319-0', 'topic': 'artificial intelligence', 'ingested_at': '2025-08-14T23:54:55.179520', '_rid': 'nw0sALzVQPEKAAAAAAAAAA==', '_self': 'dbs/nw0sAA==/colls/nw0sALzVQPE=/docs/nw0sALzVQPEKAAAAAAAAAA==/', '_etag': '\"5f02071f-0000-0200-0000-689e77510000\"', '_attachments': 'attachments/', '_ts': 1755215697}, {'id': 'e81aeeada36084270cf990dd8edb403fc262afcb35901195e4f4944363083977', 'paper_id': '8986c3ff6369c2dda2ba6c84bda37c9ae257769b', 'title': 'Brain Tumor Identification and Classification of MRI Images Using Deep Learning Techniques', 'abstract': 'The detection, segmentation, and extraction from Magnetic Resonance Imaging (MRI) images of contaminated tumor areas are significant concerns; however, a repetitive and extensive task executed by radiologists or clinical experts relies on their expertise. Image processing concepts can imagine the various anatomical structure of the human organ. Detection of human brain abnormal structures by basic imaging techniques is challenging. In this paper, a Fully Automatic Heterogeneous Segmentation using Support Vector Machine (FAHS-SVM) has been proposed for brain tumor segmentation based on deep learning techniques. The present work proposes the separation of the whole cerebral venous system into MRI imaging with the addition of a new, fully automatic algorithm based on structural, morphological, and relaxometry details. The segmenting function is distinguished by a high level of uniformity between anatomy and the neighboring brain tissue. ELM is a type of learning algorithm consisting of one or more layers of hidden nodes. Such networks are used in various areas, including regression and classification. In brain MRI images, the probabilistic neural network classification system has been utilized for training and checking the accuracy of tumor detection in images. The numerical results show almost 98.51% accuracy in detecting abnormal and normal tissue from brain Magnetic Resonance images that demonstrate the efficiency of the system suggested.', 'authors': ['Zheshu Jia', 'Deyun Chen'], 'year': 2025, 'venue': 'IEEE Access', 'citation_count': 125, 'url': 'https://www.semanticscholar.org/paper/8986c3ff6369c2dda2ba6c84bda37c9ae257769b', 'external_ids': {'DBLP': 'journals/access/JiaC25', 'MAG': '3049587623', 'DOI': '10.1109/ACCESS.2020.3016319', 'CorpusId': 226731539}, 'doi': '10.1109/ACCESS.2020.3016319', 'topic': 'deep learning', 'ingested_at': '2025-08-14T23:54:57.190464', '_rid': 'nw0sALzVQPELAAAAAAAAAA==', '_self': 'dbs/nw0sAA==/colls/nw0sALzVQPE=/docs/nw0sALzVQPELAAAAAAAAAA==/', '_etag': '\"5f02111f-0000-0200-0000-689e77510000\"', '_attachments': 'attachments/', '_ts': 1755215697}, {'id': '5701bd46a79a7e3b8901e2af02607e068afd519f63ce55573d4bc6b4d32c8bc8', 'paper_id': 'c3df8f8b7f1ed68f0ffeef6afcf60039f955b397', 'title': 'Overview of the TREC 2021 Deep Learning Track', 'abstract': 'This is the third year of the TREC Deep Learning track. As in previous years, we leverage the MS MARCO datasets that made hundreds of thousands of human annotated training labels available for both passage and document ranking tasks. In addition, this year we refreshed both the document and the passage collections which also led to a nearly four times increase in the document collection size and nearly $16$ times increase in the size of the passage collection. Deep neural ranking models that employ large scale pretraininig continued to outperform traditional retrieval methods this year. We also found that single stage retrieval can achieve good performance on both tasks although they still do not perform at par with multistage retrieval pipelines. Finally, the increase in the collection size and the general data refresh raised some questions about completeness of NIST judgments and the quality of the training labels that were mapped to the new collections from the old ones which we discuss in this report.', 'authors': ['Nick Craswell', 'Bhaskar Mitra', 'Emine Yilmaz', 'Daniel Fernando Campos', 'Jimmy J. Lin'], 'year': 2025, 'venue': 'Text Retrieval Conference', 'citation_count': 56, 'url': 'https://www.semanticscholar.org/paper/c3df8f8b7f1ed68f0ffeef6afcf60039f955b397', 'external_ids': {'DBLP': 'journals/corr/abs-2507-08191', 'ArXiv': '2507.08191', 'DOI': '10.48550/arXiv.2507.08191', 'CorpusId': 261242374}, 'doi': '10.48550/arXiv.2507.08191', 'topic': 'deep learning', 'ingested_at': '2025-08-14T23:54:57.190481', '_rid': 'nw0sALzVQPEMAAAAAAAAAA==', '_self': 'dbs/nw0sAA==/colls/nw0sALzVQPE=/docs/nw0sALzVQPEMAAAAAAAAAA==/', '_etag': '\"5f02151f-0000-0200-0000-689e77510000\"', '_attachments': 'attachments/', '_ts': 1755215697}, {'id': 'b0b34a0dd39235b3ac5e3e27f534986d5bc3462477dd087fac01f2fbe68b0393', 'paper_id': '8fa4f6b5232868c2e400670716540f6877068439', 'title': 'Scalable emulation of protein equilibrium ensembles with generative deep learning', 'abstract': 'Following the sequence and structure revolutions, predicting the dynamical mechanisms of proteins that implement biological function remains an outstanding scientific challenge. Several experimental techniques and molecular dynamics (MD) simulations can, in principle, determine conformational states, binding configurations and their probabilities, but suffer from low throughput. Here we develop a Biomolecular Emulator (BioEmu), a generative deep learning system that can generate thousands of statistically independent samples from the protein structure ensemble per hour on a single graphical processing unit. By leveraging novel training methods and vast data of protein structures, over 200 milliseconds of MD simulation, and experimental protein stabilities, BioEmu’s protein ensembles represent equilibrium in a range of challenging and practically relevant metrics. Qualitatively, BioEmu samples many functionally relevant conformational changes, ranging from formation of cryptic pockets, over unfolding of specific protein regions, to large-scale domain rearrangements. Quantitatively, BioEmu samples protein conformations with relative free energy errors around 1 kcal/mol, as validated against millisecond-timescale MD simulation and experimentally-measured protein stabilities. By simultaneously emulating structural ensembles and thermodynamic properties, BioEmu reveals mechanistic insights, such as the causes for fold destabilization of mutants, and can efficiently provide experimentally-testable hypotheses.', 'authors': ['Sarah Lewis', 'Tim Hempel', 'José Jiménez-Luna', 'Michael Gastegger', 'Yu Xie', 'Andrew Y. K. Foong', 'Victor Garcia Satorras', 'Osama Abdin', 'Bastiaan S. Veeling', 'I. Zaporozhets', 'Yaoyi Chen', 'Soojung Yang', 'Arne Schneuing', 'Jigyasa Nigam', 'Federico Barbero', 'Vincent Stimper', 'Andrew Campbell', 'Jason Yim', 'Marten Lienen', 'Yu Shi', 'Shuxin Zheng', 'Hannes Schulz', 'Usman Munir', 'Ryota Tomioka', 'Cecilia Clementi', 'Frank Noé'], 'year': 2025, 'venue': 'bioRxiv', 'citation_count': 49, 'url': 'https://www.semanticscholar.org/paper/8fa4f6b5232868c2e400670716540f6877068439', 'external_ids': {'DOI': '10.1101/2024.12.05.626885', 'CorpusId': 274582019, 'PubMed': '40638710'}, 'doi': '10.1101/2024.12.05.626885', 'topic': 'deep learning', 'ingested_at': '2025-08-14T23:54:57.190491', '_rid': 'nw0sALzVQPENAAAAAAAAAA==', '_self': 'dbs/nw0sAA==/colls/nw0sALzVQPE=/docs/nw0sALzVQPENAAAAAAAAAA==/', '_etag': '\"5f021d1f-0000-0200-0000-689e77510000\"', '_attachments': 'attachments/', '_ts': 1755215697}, {'id': 'be333f80dc2b5841e4ee4269e0cebfda2178200c36ef3c7115161393e78fb161', 'paper_id': 'e154e17dd1c5ad07ba69f068689ee3ee87fcb6f1', 'title': 'ChromBPNet: bias factorized, base-resolution deep learning models of chromatin accessibility reveal cis-regulatory sequence syntax, transcription factor footprints and regulatory variants', 'abstract': 'Despite extensive mapping of cis-regulatory elements (cREs) across cellular contexts with chromatin accessibility assays, the sequence syntax and genetic variants that regulate transcription factor (TF) binding and chromatin accessibility at context-specific cREs remain elusive. We introduce ChromBPNet, a deep learning DNA sequence model of base-resolution accessibility profiles that detects, learns and deconvolves assay-specific enzyme biases from regulatory sequence determinants of accessibility, enabling robust discovery of compact TF motif lexicons, cooperative motif syntax and precision footprints across assays and sequencing depths. Extensive benchmarks show that ChromBPNet, despite its lightweight design, is competitive with much larger contemporary models at predicting variant effects on chromatin accessibility, pioneer TF binding and reporter activity across assays, cell contexts and ancestry, while providing interpretation of disrupted regulatory syntax. ChromBPNet also helps prioritize and interpret regulatory variants that influence complex traits and rare diseases, thereby providing a powerful lens to decode regulatory DNA and genetic variation.', 'authors': ['Anusri Pampari', 'A. Shcherbina', 'Evgeny Z. Kvon', 'Michael Kosicki', 'Surag Nair', 'Soumya Kundu', 'Arwa S. Kathiria', 'Viviana I. Risca', 'Kristiina Kuningas', 'Kaur Alasoo', 'William J. Greenleaf', 'Len A. Pennacchio', 'Anshul Kundaje'], 'year': 2025, 'venue': 'bioRxiv', 'citation_count': 32, 'url': 'https://www.semanticscholar.org/paper/e154e17dd1c5ad07ba69f068689ee3ee87fcb6f1', 'external_ids': {'PubMedCentral': '11741299', 'DOI': '10.1101/2024.12.25.630221', 'CorpusId': 275042468, 'PubMed': '39829783'}, 'doi': '10.1101/2024.12.25.630221', 'topic': 'deep learning', 'ingested_at': '2025-08-14T23:54:57.190499', '_rid': 'nw0sALzVQPEOAAAAAAAAAA==', '_self': 'dbs/nw0sAA==/colls/nw0sALzVQPE=/docs/nw0sALzVQPEOAAAAAAAAAA==/', '_etag': '\"5f02211f-0000-0200-0000-689e77510000\"', '_attachments': 'attachments/', '_ts': 1755215697}, {'id': 'd3b9c80bd9c58cf19e8b296186b758cb1ec48229db95de44cd4dfa16005edbf9', 'paper_id': 'cb002e2d309d3e1edf05a87a7d17158a9437f145', 'title': 'A robust deep learning framework for multiclass skin cancer classification', 'abstract': 'Skin cancer represents a significant global health concern, where early and precise diagnosis plays a pivotal role in improving treatment efficacy and patient survival rates. Nonetheless, the inherent visual similarities between benign and malignant lesions pose substantial challenges to accurate classification. To overcome these obstacles, this study proposes an innovative hybrid deep learning model that combines ConvNeXtV2 blocks and separable self-attention mechanisms, tailored to enhance feature extraction and optimize classification performance. The inclusion of ConvNeXtV2 blocks in the initial two stages is driven by their ability to effectively capture fine-grained local features and subtle patterns, which are critical for distinguishing between visually similar lesion types. Meanwhile, the adoption of separable self-attention in the later stages allows the model to selectively prioritize diagnostically relevant regions while minimizing computational complexity, addressing the inefficiencies often associated with traditional self-attention mechanisms. The model was comprehensively trained and validated on the ISIC 2019 dataset, which includes eight distinct skin lesion categories. Advanced methodologies such as data augmentation and transfer learning were employed to further enhance model robustness and reliability. The proposed architecture achieved exceptional performance metrics, with 93.48% accuracy, 93.24% precision, 90.70% recall, and a 91.82% F1-score, outperforming over ten Convolutional Neural Network (CNN) based and over ten Vision Transformer (ViT) based models tested under comparable conditions. Despite its robust performance, the model maintains a compact design with only 21.92 million parameters, making it highly efficient and suitable for model deployment. The Proposed Model demonstrates exceptional accuracy and generalizability across diverse skin lesion classes, establishing a reliable framework for early and accurate skin cancer diagnosis in clinical practice.', 'authors': ['Burhanettin Ozdemir', 'Ishak Paçal'], 'year': 2025, 'venue': 'Scientific Reports', 'citation_count': 32, 'url': 'https://www.semanticscholar.org/paper/cb002e2d309d3e1edf05a87a7d17158a9437f145', 'external_ids': {'PubMedCentral': '11811178', 'DOI': '10.1038/s41598-025-89230-7', 'CorpusId': 276257229, 'PubMed': '39930026'}, 'doi': '10.1038/s41598-025-89230-7', 'topic': 'deep learning', 'ingested_at': '2025-08-14T23:54:57.190504', '_rid': 'nw0sALzVQPEPAAAAAAAAAA==', '_self': 'dbs/nw0sAA==/colls/nw0sALzVQPE=/docs/nw0sALzVQPEPAAAAAAAAAA==/', '_etag': '\"5f02251f-0000-0200-0000-689e77510000\"', '_attachments': 'attachments/', '_ts': 1755215697}, {'id': '56aa7a94bd953a1ea5b1a8e9f535a7b053f99fa1e178d75295c9d5c8c0730db4', 'paper_id': '5596e27d38f47e80b76ae133a0e5768840e1f249', 'title': 'Deep learning and computer vision in plant disease detection: a comprehensive review of techniques, models, and trends in precision agriculture', 'abstract': None, 'authors': ['Abhishek Upadhyay', 'N. Chandel', 'Krishna Pratap Singh', 'S. Chakraborty', 'B. M. Nandede', 'Mohit Kumar', 'A. Subeesh', 'Konga Upendar', 'Ali Salem', 'Ahmed Elbeltagi'], 'year': 2025, 'venue': 'Artificial Intelligence Review', 'citation_count': 34, 'url': 'https://www.semanticscholar.org/paper/5596e27d38f47e80b76ae133a0e5768840e1f249', 'external_ids': {'DBLP': 'journals/air/UpadhyayCSCNKSUSE25', 'DOI': '10.1007/s10462-024-11100-x', 'CorpusId': 275632632}, 'doi': '10.1007/s10462-024-11100-x', 'topic': 'deep learning', 'ingested_at': '2025-08-14T23:54:57.190510', '_rid': 'nw0sALzVQPEQAAAAAAAAAA==', '_self': 'dbs/nw0sAA==/colls/nw0sALzVQPE=/docs/nw0sALzVQPEQAAAAAAAAAA==/', '_etag': '\"5f02291f-0000-0200-0000-689e77510000\"', '_attachments': 'attachments/', '_ts': 1755215697}, {'id': '41755779ae795a642074797319721746de473898102616207c874fd1fb2c9dc6', 'paper_id': '2bfc734f35961291224d131bd38290aacd758a9f', 'title': 'Overview of the TREC 2022 Deep Learning Track', 'abstract': \"This is the fourth year of the TREC Deep Learning track. As in previous years, we leverage the MS MARCO datasets that made hundreds of thousands of human annotated training labels available for both passage and document ranking tasks. In addition, this year we also leverage both the refreshed passage and document collections that were released last year leading to a nearly $16$ times increase in the size of the passage collection and nearly four times increase in the document collection size. Unlike previous years, in 2022 we mainly focused on constructing a more complete test collection for the passage retrieval task, which has been the primary focus of the track. The document ranking task was kept as a secondary task, where document-level labels were inferred from the passage-level labels. Our analysis shows that similar to previous years, deep neural ranking models that employ large scale pretraining continued to outperform traditional retrieval methods. Due to the focusing our judging resources on passage judging, we are more confident in the quality of this year's queries and judgments, with respect to our ability to distinguish between runs and reuse the dataset in future. We also see some surprises in overall outcomes. Some top-performing runs did not do dense retrieval. Runs that did single-stage dense retrieval were not as competitive this year as they were last year.\", 'authors': ['Nick Craswell', 'Bhaskar Mitra', 'Emine Yilmaz', 'Daniel Fernando Campos', 'Jimmy Lin', 'E. Voorhees', 'I. Soboroff'], 'year': 2025, 'venue': 'Text Retrieval Conference', 'citation_count': 29, 'url': 'https://www.semanticscholar.org/paper/2bfc734f35961291224d131bd38290aacd758a9f', 'external_ids': {'ArXiv': '2507.10865', 'DBLP': 'conf/trec/Craswell0YCLVS22', 'CorpusId': 261302277}, 'doi': None, 'topic': 'deep learning', 'ingested_at': '2025-08-14T23:54:57.190515', '_rid': 'nw0sALzVQPERAAAAAAAAAA==', '_self': 'dbs/nw0sAA==/colls/nw0sALzVQPE=/docs/nw0sALzVQPERAAAAAAAAAA==/', '_etag': '\"5f022f1f-0000-0200-0000-689e77510000\"', '_attachments': 'attachments/', '_ts': 1755215697}, {'id': 'ccb3bbf8ac00e309f6994767ced05139678ddeba6b55c41fb1850c6027fbc779', 'paper_id': 'cf11dd2c2d8e97bfde1426f57fc4876224189263', 'title': 'Credit Card Fraud Detection Using State Of The Art Machine Learning And Deep Learning Algorithms', 'abstract': 'Credit card fraud has emerged as a significant threat to financial security, prompting the urgent need for sophisticated detection mechanisms. Traditional rule-based systems are increasingly inadequate in identifying fraudulent patterns, especially with the advent of more complex and subtle fraud strategies. This study explores state-of-the-art machine learning and deep learning algorithms to enhance the accuracy and efficiency of credit card fraud detection systems. Various algorithms such as Random Forest, Gradient Boosting, Support Vector Machines, Long Short-Term Memory (LSTM) networks, and Convolutional Neural Networks (CNNs) are evaluated using a publicly available credit card transaction dataset. Emphasis is placed on the importance of handling class imbalance, which is a critical issue in fraud detection, by employing techniques like SMOTE and cost-sensitive learning. Feature engineering and data preprocessing play vital roles in improving model performance, and these are rigorously addressed in the methodology. Performance is assessed using metrics such as precision, recall, F1-score, and AUC-ROC to ensure balanced evaluation. The results demonstrate that deep learning models, particularly LSTM and CNNs, outperform traditional machine learning techniques in capturing temporal and spatial transaction patterns. However, the choice of algorithm may vary depending on the computational resources and the real-time nature of deployment. The proposed system integrates the most effective models into a hybrid framework that balances accuracy and efficiency. This research contributes to the ongoing development of intelligent, adaptive, and scalable fraud detection systems that can significantly reduce financial losses and enhance the security of credit card transactions.', 'authors': ['Mca S E Suresh', 'Yennam Anusha'], 'year': 2025, 'venue': 'International Journal of Research Publication and Reviews', 'citation_count': 29, 'url': 'https://www.semanticscholar.org/paper/cf11dd2c2d8e97bfde1426f57fc4876224189263', 'external_ids': {'DOI': '10.55248/gengpi.6.0525.1840', 'CorpusId': 268420356}, 'doi': '10.55248/gengpi.6.0525.1840', 'topic': 'deep learning', 'ingested_at': '2025-08-14T23:54:57.190521', '_rid': 'nw0sALzVQPESAAAAAAAAAA==', '_self': 'dbs/nw0sAA==/colls/nw0sALzVQPE=/docs/nw0sALzVQPESAAAAAAAAAA==/', '_etag': '\"5f02351f-0000-0200-0000-689e77510000\"', '_attachments': 'attachments/', '_ts': 1755215697}, {'id': 'ebf3c6bf6d984cbf90bb32355a506b97e9a27ca82d90a588ecc481e543ffa623', 'paper_id': 'e53f66a5df97a7ccadcc858fcdc597121f598787', 'title': 'Bidirectional graphics-based digital twin framework for quantifying seismic damage of structures using deep learning networks', 'abstract': 'Tremendous effort has been devoted toward developing automated post-earthquake inspection techniques, including automated image collection and damage identification. However, few studies have attempted to establish the complex relationship between visible damage and structural conditions. Moreover, the lack of training data further hinders the potential use of deep learning algorithms. This paper proposes a framework, termed Bidirectional Graphics-based Digital Twin (Bi-GBDT), that allows for assessment of the structural condition based on post-earthquake photographic surveys. The procedure contains two parts: (i) A GBDT of a target structure, containing a computer graphics model and a finite element (FE) model, is developed (ii) Synthetic data subsequently is generated from the GBDT to train neural networks to predict the damage measures and structural conditions. To demonstrate the proposed approach, a seismically-designed reinforced concrete shear wall is considered. First, the GBDT of the shear wall is constructed and calibrated so that the associated damage patterns simulated by the corresponding FE model match well with the experimental results. Next, synthetic images of the damage patterns are created from the validated GBDT, along with the corresponding structural damage measures, and used to train Residual Neural Network and Conditional Generative Adversarial Networks to determine the maximum drift, the stress/strain fields and the structural condition. The neural networks trained on synthetic data are shown to perform well for the experimental data, confirming the proposed approach. Subsequently, the neural networks are tested on the synthetic data for a wide variety of loading conditions to demonstrate the robustness of the approach. In addition, the realistic images rendered from the GBDT are utilized as input to predict the structural condition, showcasing the comprehensive Bi-GBDT framework. These results demonstrate the efficacy of the proposed approach to generate accurate digital twins and point toward its future application for development of automated post-earthquake assessment strategies.', 'authors': ['Guanghao Zhai', 'Yongjia Xu', 'Billie F. Spencer'], 'year': 2025, 'venue': '', 'citation_count': 27, 'url': 'https://www.semanticscholar.org/paper/e53f66a5df97a7ccadcc858fcdc597121f598787', 'external_ids': {'DOI': '10.1177/14759217241231299', 'CorpusId': 278570275}, 'doi': '10.1177/14759217241231299', 'topic': 'deep learning', 'ingested_at': '2025-08-14T23:54:57.190526', '_rid': 'nw0sALzVQPETAAAAAAAAAA==', '_self': 'dbs/nw0sAA==/colls/nw0sALzVQPE=/docs/nw0sALzVQPETAAAAAAAAAA==/', '_etag': '\"5f023d1f-0000-0200-0000-689e77510000\"', '_attachments': 'attachments/', '_ts': 1755215697}, {'id': '07b54d682e8cd3df9d5afce04e771ec093bd7be36cb618ae5ffc34ef9b865551', 'paper_id': 'e4cedeb15d86761dd1fa460240ebccf27ce0713c', 'title': 'An efficient hybrid Deep Learning-Machine Learning method for diagnosing neurodegenerative disorders.', 'abstract': \"A neurodegenerative illness known as Alzheimer's causes the loss of brain cells and the progressive atrophy of brain tissue. It badly affects a person’s normal life. However, if we are able to detect it early and treat it, most patients will be able to recover to some degree and lead a normal life with some dependence. Continuous clinical assessment is needed for diagnosing this type of disorder. Medical diagnosis today extensively relies on deep learning approaches. However, medical image data analysis has a lot of constraints. One of the major constraints faced during medical image analysis is data scarcity and data imbalance. In light of these concerns, the current study sets out to create a hybrid deep learning model that can effectively categorise various Alzheimer's disease variants using magnetic resonance imaging (MRI) data. \\nFor solving data imbalance, first, we blur and sharpen all the images, and finally, we pass all these images along with the original images through a predefined CNN (Convolutional Neural Network) model that was trained using mnist weight for extracting features, then pass these features to an extra-tree classifier for feature reduction, and finally input these reduced features to a customised deep learning model. This work used different pre-trained models for extracting features for our customised DNN (Deep Neural Network) and compared those models with the cutting-edge model chosen as the base model. The results state that our proposed model, which was pre-trained using ResNet with a dropout concept, got the highest values of training accuracy (98.20) and validation accuracy (92.61). This model also effectively addresses the problem of overfitting.\", 'authors': ['Johnsymol Joy', 'Mercy Paul Selvan'], 'year': 2025, 'venue': 'International Journal of Computational and Experimental Science and Engineering', 'citation_count': 25, 'url': 'https://www.semanticscholar.org/paper/e4cedeb15d86761dd1fa460240ebccf27ce0713c', 'external_ids': {'DOI': '10.22399/ijcesen.701', 'CorpusId': 275350518}, 'doi': '10.22399/ijcesen.701', 'topic': 'deep learning', 'ingested_at': '2025-08-14T23:54:57.190531', '_rid': 'nw0sALzVQPEUAAAAAAAAAA==', '_self': 'dbs/nw0sAA==/colls/nw0sALzVQPE=/docs/nw0sALzVQPEUAAAAAAAAAA==/', '_etag': '\"5f02451f-0000-0200-0000-689e77520000\"', '_attachments': 'attachments/', '_ts': 1755215698}, {'id': '9f83f361e54a2042bbb1ffacaf33be8dd99dc52f36f3dfe5a3d86270ddd4b0ed', 'paper_id': '000141b4a69a77add67712699501dfe4dcc3b82d', 'title': 'Collective Meaning Cascades but Strange Ducks Swim Upstream: Facilitating Collective Meaning-making through Co-development of AI Models', 'abstract': 'Communities of practice operate by developing, sharing, and formalizing concepts together – collective meaning-making – thereby enabling all their community members to work together effectively. In the context of Wikipedia, these concepts include article quality, vandalism, and other subjective aspects of collective work. AI and machine learning have proven to be powerful tools for facilitating collaboration at scale by modeling and applying shared concepts. We examine meaning-making in parallel with aligning AI behavior. We describe a case study of modeling the quality of articles in Dutch Wikipedia using an AI model, while engaging in a meaning-making process with Dutch Wikipedians. This case blurs the line between social governance and how meaning is reshaped in an AI model. Based on the case study, we present the Collective Meaning Cycle, a framework that describes the bidirectional relationship between modeling and meaning-making. We also provide implications for the practice of participatory AI design.', 'authors': ['A. L. Halfaker', 'Tzu-Sheng Kuo', 'Ciell Brusse', 'Kenneth Holstein', 'Haiyi Zhu'], 'year': 2025, 'venue': 'CHI Extended Abstracts', 'citation_count': 1, 'url': 'https://www.semanticscholar.org/paper/000141b4a69a77add67712699501dfe4dcc3b82d', 'external_ids': {'DBLP': 'conf/chi/HalfakerKBHZ25', 'DOI': '10.1145/3706599.3706683', 'CorpusId': 278037665}, 'doi': '10.1145/3706599.3706683', 'topic': 'machine learning', 'ingested_at': '2025-08-15T00:02:00.616517', '_rid': 'nw0sALzVQPEVAAAAAAAAAA==', '_self': 'dbs/nw0sAA==/colls/nw0sALzVQPE=/docs/nw0sALzVQPEVAAAAAAAAAA==/', '_etag': '\"5f02d4e7-0000-0200-0000-689e78fb0000\"', '_attachments': 'attachments/', '_ts': 1755216123}, {'id': '9dc1bdcab354650a4d1aab36f4f30ed14ef8ff70cd46a6a4dbe21cd989e1cfb5', 'paper_id': '0001d0ebfeb82a9c0fe964bd5ca0811f352883cf', 'title': 'The aggrephagy-related gene TUBA1B influences clinical outcomes in glioma patients by regulating the cell cycle', 'abstract': 'Background Gliomas are common primary malignant brain tumors, with glioblastoma (GBM) being the most aggressive subtype. GBM is characterized by high recurrence rates and treatment resistance, leading to poor patient outcomes. Current prognostic models have limited predictive power, underscoring the need to elucidate underlying mechanisms and identify novel biomarkers to improve therapeutic strategies and prognostic models. Methods Gene expression and clinical data for GBM and LGG were obtained from the TCGA and CGGA database, while single-cell sequencing data from GSE167960 were selected from the GEO database. Molecular characteristics of gliomas were revealed through normalization, consensus clustering analysis, immune scoring, cell infiltration analysis, and pathway analysis. TUBA1B, identified as a key gene through machine learning, was incorporated into a nomogram model using multivariate Cox regression. Its functions were validated through qRT-PCR, in vitro functional assays, and mouse xenograft models. All data analyses and statistics were performed using R software. Results Consensus clustering of the TCGA glioma dataset identified two aggrephagy subtypes (C1 and C2), with C2 showing worse survival outcomes and higher immune infiltration. TUBA1B was identified as an independent prognostic marker, with high expression associated with upregulated cell cycle pathways and alterations in the immune microenvironment. TUBA1B was shown to influence glioma cell proliferation, migration, invasion, and autophagy, impacting tumor progression and treatment response through intercellular communication and metabolic pathways. Conclusion The study demonstrates that high TUBA1B expression is closely associated with glioma malignancy and poor prognosis, making it a potential therapeutic target.', 'authors': ['Zesheng Sun', 'Pengcheng Huang', 'Jialiang Lin', 'Guiping Jiang', 'Jian Chen', 'Qianqian Liu'], 'year': 2025, 'venue': 'Frontiers in Oncology', 'citation_count': 1, 'url': 'https://www.semanticscholar.org/paper/0001d0ebfeb82a9c0fe964bd5ca0811f352883cf', 'external_ids': {'PubMedCentral': '11906671', 'DOI': '10.3389/fonc.2025.1531465', 'CorpusId': 276715703, 'PubMed': '40094001'}, 'doi': '10.3389/fonc.2025.1531465', 'topic': 'machine learning', 'ingested_at': '2025-08-15T00:02:00.616540', '_rid': 'nw0sALzVQPEWAAAAAAAAAA==', '_self': 'dbs/nw0sAA==/colls/nw0sALzVQPE=/docs/nw0sALzVQPEWAAAAAAAAAA==/', '_etag': '\"5f02d8e7-0000-0200-0000-689e78fb0000\"', '_attachments': 'attachments/', '_ts': 1755216123}, {'id': 'cdb6620e1e919a4d1309b64c7a06f2bf8da9a6006e61b8ea2b27500b0084ceec', 'paper_id': '0002dafbba9b1dfd434dcb00d6f7c8468ccdd89e', 'title': 'Diabetic Detection from Images of the Eye', 'abstract': 'This cross-sectional study aims to detect Diabetic Retinopathy (DR) in patients who have had retinal scans and ophthalmological exams. The research makes use of tailored retinal images together with the OPF (Optimum-Path Forest) and RBM (Restricted Boltzmann Machine) models to categorize images according to the presence or absence of DR. In this work, features were extracted from the retinal images using both the RBM and OPF models. In particular, after a thorough system training phase, RBM was able to extract between 500 and 1000 features from the images. The study included fifteen distinct trial series, each with thirty cycles of repetition. The research comprised 122 eyes, or 73 diabetic patients, with a gender distribution that was reasonably balanced and an average age of 59.7 years. Remarkably, the RBM-1000 model stood out as the top performer, with the highest overall accuracy of 89.47% in diagnosis. In terms of specificity, the RBM-1000 and OPF-1000 models surpassed the competition, correctly categorizing all images free of DR symptoms. These findings highlight the potential of machine learning, particularly the RBM model, for self-identifying illnesses. The potential of machine learning models—in particular, RBM and OPF—to automate the diagnosis of diabetic retinopathy is demonstrated by this work. The results show how well the RBM model diagnoses, how sensitive it is, and how well it can be applied for efficient DR screening and diagnosis. This information may be used to improve the effectiveness of systems that identify retinal illnesses', 'authors': ['Arepalli Gopi', 'L. Sudha', 'Joseph S Iwin Thanakumar'], 'year': 2025, 'venue': 'AG Salud', 'citation_count': 1, 'url': 'https://www.semanticscholar.org/paper/0002dafbba9b1dfd434dcb00d6f7c8468ccdd89e', 'external_ids': {'DOI': '10.62486/agsalud2025197', 'CorpusId': 273940919}, 'doi': '10.62486/agsalud2025197', 'topic': 'machine learning', 'ingested_at': '2025-08-15T00:02:00.616547', '_rid': 'nw0sALzVQPEXAAAAAAAAAA==', '_self': 'dbs/nw0sAA==/colls/nw0sALzVQPE=/docs/nw0sALzVQPEXAAAAAAAAAA==/', '_etag': '\"5f02e2e7-0000-0200-0000-689e78fb0000\"', '_attachments': 'attachments/', '_ts': 1755216123}, {'id': '4d462d6206c94fd823794aa649e0c959d4bdf60366882378006100bead21e6b9', 'paper_id': '000338ce35aa4cc965034fc6a7d4d8dc86eadad3', 'title': 'Influence of acetic acid treated recycled concrete aggregates on the rheological and mechanical properties of self-compacting concrete: Experiments and machine learning', 'abstract': None, 'authors': ['Sarmed Wahab', 'Abdul Moeiz Abbasi', 'Arsalan Ahmed', 'Inayat Ullah Khan'], 'year': 2025, 'venue': 'Construction and Building Materials', 'citation_count': 0, 'url': 'https://www.semanticscholar.org/paper/000338ce35aa4cc965034fc6a7d4d8dc86eadad3', 'external_ids': {'DOI': '10.1016/j.conbuildmat.2025.142770', 'CorpusId': 280177481}, 'doi': '10.1016/j.conbuildmat.2025.142770', 'topic': 'machine learning', 'ingested_at': '2025-08-15T00:02:00.616554', '_rid': 'nw0sALzVQPEYAAAAAAAAAA==', '_self': 'dbs/nw0sAA==/colls/nw0sALzVQPE=/docs/nw0sALzVQPEYAAAAAAAAAA==/', '_etag': '\"5f02e9e7-0000-0200-0000-689e78fb0000\"', '_attachments': 'attachments/', '_ts': 1755216123}, {'id': '5c9b9c2811a4c316311e1675e5d33641b1ddf3b0c26289b70948cfebf699b31c', 'paper_id': '0003b49f9f3650d05eebffc2b2e6ce59e2127dc1', 'title': 'Application of multimedia-based network teaching platform in college physical education teaching', 'abstract': \"Under the open education system, college physical education multimedia network teaching involves complexity and diversity. To improve the efficiency of such teaching, this paper proposes an information fusion model based on big data resource scheduling for online courses. The design incorporates a software platform built in an embedded Linux environment, including several key modules such as the database module, multimedia information resource sampling module, embedded program processing module, and multimedia human-machine interaction control module.The platform aims to enhance teaching and learning experiences in college physical education by offering students an interactive and comprehensive learning environment. Key components of the platform design include the user interface, the database module, and the information fusion model. The platform utilizes Excel and Access technology for data collection and database construction within the open education system. Additionally, a quantitative recursive analysis method is applied to design the algorithm for multimedia network teaching information fusion and scheduling under a linear programming model.The algorithm integrates into the platform using the instruction dynamic loading module, which loads it into the system control terminal and the information processing center. After successful loading, the algorithm is executed for various tasks related to information fusion and scheduling. This feature allows for the efficient management of resources and data.Furthermore, the platform supports cross-compilation and multi-mode control of multimedia network teaching information in a cloud computing environment. By combining embedded software design techniques, the software development of the management platform is realized. The results demonstrate that the platform's multi-mode integration and scheduling abilities are enhanced, and its real-time retrieval and access capabilities are stronger, thereby improving the quality of multimedia network teaching in college sports.\", 'authors': ['Ran Liu', 'Meili Liu'], 'year': 2025, 'venue': 'Journal of Combinatorial Mathematics and Combinatorial Computing', 'citation_count': 0, 'url': 'https://www.semanticscholar.org/paper/0003b49f9f3650d05eebffc2b2e6ce59e2127dc1', 'external_ids': {'DOI': '10.61091/jcmcc127b-255', 'CorpusId': 277972006}, 'doi': '10.61091/jcmcc127b-255', 'topic': 'machine learning', 'ingested_at': '2025-08-15T00:02:00.616560', '_rid': 'nw0sALzVQPEZAAAAAAAAAA==', '_self': 'dbs/nw0sAA==/colls/nw0sALzVQPE=/docs/nw0sALzVQPEZAAAAAAAAAA==/', '_etag': '\"5f02ede7-0000-0200-0000-689e78fb0000\"', '_attachments': 'attachments/', '_ts': 1755216123}, {'id': '872ea6194b6404620cbb9a6d2a02a438bb18fabb2d08acd2f5d806303e45e0db', 'paper_id': '0003caa465c7c73688524704967e297705c50e8f', 'title': 'Advancing source reactor-type discrimination using machine learning techniques and SFCOMPO-2.0 experimental database', 'abstract': None, 'authors': ['Tianxiang Wang', 'Hao Yang', 'Shengli Chen', 'Cenxi Yuan'], 'year': 2025, 'venue': 'Annals of Nuclear Energy', 'citation_count': 1, 'url': 'https://www.semanticscholar.org/paper/0003caa465c7c73688524704967e297705c50e8f', 'external_ids': {'DOI': '10.1016/j.anucene.2024.110952', 'CorpusId': 273141789}, 'doi': '10.1016/j.anucene.2024.110952', 'topic': 'machine learning', 'ingested_at': '2025-08-15T00:02:00.616570', '_rid': 'nw0sALzVQPEaAAAAAAAAAA==', '_self': 'dbs/nw0sAA==/colls/nw0sALzVQPE=/docs/nw0sALzVQPEaAAAAAAAAAA==/', '_etag': '\"5f02f4e7-0000-0200-0000-689e78fb0000\"', '_attachments': 'attachments/', '_ts': 1755216123}, {'id': '580adb530e307f6e73007bf4af385799f2b3aadbbf425b2db17fbb610f762d45', 'paper_id': '0004bbb8722a20d093b5537997132dbd0cacd0ae', 'title': 'XAI_MLPCNN: A Novel Explainable AI-Based DeepLearning Framework for Stress Identifi cation', 'abstract': \": Over the past ten years, there has been a lot of emphasis focused on the development of Artificial Intelligence (AI) and Machine Learning (ML)-based mental health treatments. To increase practitioners' and patients' trust in AI applications, AI systems need to explain their actions. This is called Explainable AI (XAI). While significant progress has been achieved in stress prediction models, XAI has not advanced as much. To overcome this gap, this work presents an explainable AI-based Multi-Layer Pyramid Convolutional Neural Network (XAI_MLPCNN) architecture for stress detection. Multi-channel EEG recordings can be deconstructed into distinct frequency bands and their non-linearity and non-stationarity removed using the Discrete Wavelet Transform (DWT). When processing features, the Power Spectral Density (PSD) is employed. Conversely, the decomposed signals are employed in the automatic feature extraction process through MLPCNN, and the dual BiLSTM with self-attention layer (DBiL_SA) is utilized to predict stress. MLPCNN-DBiL_SA and PSD features are combined to improve prediction. To provide explanations or assess how explainable the predictions are, explainable artificial intelligence techniques like Shapley additive explanations (SHAP) and Local Interpretable Model-agnostic Explanations (LIME) are employed. The Python platform is used to implement the model. Performance is further assessed using a several performance metrics, such as accuracy, recall, precision, and f1-measure. Furthermore, the proposed approach is compared to other methods that are currently in use, like CNN-DWD and PSD, LSTM-DWD and PSD, BI-LSTM-DWD and PSD, RNN-DWD and PSD, and GRU-DWT AND PSD.\", 'authors': ['Fateh Bahadur Kunwar', 'Rakesh Kumar Yadav', 'Hitendra Singh', 'Nitin Tripathi'], 'year': 2025, 'venue': 'Journal of Computer Science', 'citation_count': 1, 'url': 'https://www.semanticscholar.org/paper/0004bbb8722a20d093b5537997132dbd0cacd0ae', 'external_ids': {'DOI': '10.3844/jcssp.2025.1156.1167', 'CorpusId': 278637458}, 'doi': '10.3844/jcssp.2025.1156.1167', 'topic': 'machine learning', 'ingested_at': '2025-08-15T00:02:00.616577', '_rid': 'nw0sALzVQPEbAAAAAAAAAA==', '_self': 'dbs/nw0sAA==/colls/nw0sALzVQPE=/docs/nw0sALzVQPEbAAAAAAAAAA==/', '_etag': '\"5f02fbe7-0000-0200-0000-689e78fb0000\"', '_attachments': 'attachments/', '_ts': 1755216123}, {'id': '395827d2f937ac59eca2b69bb55be1b02731da703e95a8aeed2008e01efe94a1', 'paper_id': '00051115b3f59d848e44fcd1b69f18019f49a5ea', 'title': 'A multimodal machine learning fused global 0.1° daily evapotranspiration dataset from 1950-2022', 'abstract': None, 'authors': ['Qingchen Xu', 'Lu Li', 'Zhongwang Wei', 'Xingjie Lu', 'Nan Wei', 'Xuhui Lee', 'Yongjiu Dai'], 'year': 2025, 'venue': 'Agricultural and Forest Meteorology', 'citation_count': 1, 'url': 'https://www.semanticscholar.org/paper/00051115b3f59d848e44fcd1b69f18019f49a5ea', 'external_ids': {'DOI': '10.1016/j.agrformet.2025.110645', 'CorpusId': 279066628}, 'doi': '10.1016/j.agrformet.2025.110645', 'topic': 'machine learning', 'ingested_at': '2025-08-15T00:02:00.616585', '_rid': 'nw0sALzVQPEcAAAAAAAAAA==', '_self': 'dbs/nw0sAA==/colls/nw0sALzVQPE=/docs/nw0sALzVQPEcAAAAAAAAAA==/', '_etag': '\"5f0200e8-0000-0200-0000-689e78fb0000\"', '_attachments': 'attachments/', '_ts': 1755216123}, {'id': '133c6799bde44fd416d1ce5300ac6b8b74ff360bcdc2ee5cadee3e8c660cacb0', 'paper_id': '000599cbc4db4fb6b780ddf4dfd85ef3a9430b59', 'title': 'Data-Driven Digital Twins for Real-Time Machine Monitoring: A Case Study on a Rotating Machine', 'abstract': '\\n In this work, we present a framework for data-driven digital twins for real-time machine monitoring. Data-driven digital twins are gaining prominence in a variety of industrial applications owing to their ability to capture complex relationships between sensor data and system behavior. The computational efficiency gained by using such twins is critical for real-time machine monitoring and diagnostics with timely and interactive human intervention. One of the fundamental challenges in the current data-driven digital twins is a lack of understanding of how different data synthesis strategies of the same sensor data affect the predictive power of the twin models typically obtained through statistical learning. As a result, the interactive support for enabling human intervention and machine health monitoring is not generalized for different machine configurations and fault conditions. Using turbo-machinery as a concrete demonstrative context, we investigate two fundamentally different data synthesis strategies, namely, integrated and combinatorial, as digital twins for a rotating machine. Specifically, we consider a rotor kit as a machine component, develop a synthetic dataset using simulations, and conduct systematic studies on the predictive performance of reduced order models trained using the different data data synthesis strategies. Our experiments show that the combinatorial dataset offers higher prediction accuracy in comaprison to randomized data generation. To demonstrate a practical application of our methodology, we develop a cloud-based Augmented Reality (AR) mobile tool that extracts functional information in real-time using raw data and maps to respective parts of the machine.', 'authors': ['Suryapavan Cheruku', 'Suryanarayan Balaji', 'Adolfo Delgado', 'V. Krishnamurthy'], 'year': 2025, 'venue': 'Journal of Computing and Information Science in Engineering', 'citation_count': 1, 'url': 'https://www.semanticscholar.org/paper/000599cbc4db4fb6b780ddf4dfd85ef3a9430b59', 'external_ids': {'DBLP': 'journals/jcise/CherukuBDK25', 'DOI': '10.1115/1.4067600', 'CorpusId': 275453688}, 'doi': '10.1115/1.4067600', 'topic': 'machine learning', 'ingested_at': '2025-08-15T00:02:00.616593', '_rid': 'nw0sALzVQPEdAAAAAAAAAA==', '_self': 'dbs/nw0sAA==/colls/nw0sALzVQPE=/docs/nw0sALzVQPEdAAAAAAAAAA==/', '_etag': '\"5f0208e8-0000-0200-0000-689e78fb0000\"', '_attachments': 'attachments/', '_ts': 1755216123}, {'id': 'b39f7f56a3b696fd5a95e24ade7ad99d65d8c2cc0a99c8f86fc5b4ea37490169', 'paper_id': '0005bdd13947f78a673515a9b5b77ce75f815ca8', 'title': 'Remote sensing intelligent interpretation for geology: from perspective of geological exploration', 'abstract': 'This book offers an in-depth exploration of advanced remote sensing technologies in geological studies. Three of the authors (Weitao Chen, Xianju Li, and Lizhe Wang) are affiliated with the School of Computer Science at the China University of Geosciences, Wuhan, China, with expertise in AI applications for geological data interpretation. The fourth author (Xuwen Qin) is based at the China Aero Geophysical Survey and Remote Sensing Center for Natural Resources, Beijing, China, and knows geophysics and multisource data integration. This interdisciplinary collaboration provides a robust foundation for the book’s innovative methodologies in geological exploration. The book integrates remote sensing methodologies with state-of-the-art artificial intelligence (AI) techniques to enhance geological interpretation. Remote sensing acquires data via satellites, aircraft and drones and usually relies on human interpretation of computer-generated images. Intelligent remote sensing, enhanced by AI and machine learning, automates analysis, improves accuracy, and processes complex, large-scale datasets. This advancement enables more efficient geological exploration, environmental monitoring, and resource management. I am a Master’s student in Physics; I read the book and wrote the review in three weeks. AI was utilized to enhance clarity and language. I have no personal connection with the authors. The book addresses critical topics such as lithological classification, scene segmentation, and transfer learning while offering solutions to practical challenges. It is tailored for advanced undergraduate and graduate students, as well as researchers and professionals specializing in geology,', 'authors': ['Fitria Helmiza'], 'year': 2025, 'venue': 'Soviet Economy', 'citation_count': 1, 'url': 'https://www.semanticscholar.org/paper/0005bdd13947f78a673515a9b5b77ce75f815ca8', 'external_ids': {'DOI': '10.1080/00206814.2025.2460040', 'CorpusId': 276004933}, 'doi': '10.1080/00206814.2025.2460040', 'topic': 'machine learning', 'ingested_at': '2025-08-15T00:02:00.616598', '_rid': 'nw0sALzVQPEeAAAAAAAAAA==', '_self': 'dbs/nw0sAA==/colls/nw0sALzVQPE=/docs/nw0sALzVQPEeAAAAAAAAAA==/', '_etag': '\"5f020de8-0000-0200-0000-689e78fb0000\"', '_attachments': 'attachments/', '_ts': 1755216123}, {'id': '7a16a75207be5213991c871a11c4629a3d894a9eda4410a6ca4638e4683225e6', 'paper_id': '0005e7b83da79b5258808b1aeeea76ad8ea8f432', 'title': 'Behavioral insights and hotspot identification: Integrating natural language processing, machine learning and geospatial analyses of cyclist crashes', 'abstract': None, 'authors': ['Vinayak Malaghan', 'Francesco Pilla', 'P. Tafidis', 'Brian Rogers'], 'year': 2025, 'venue': 'Transportation Research Part F: Traffic Psychology and Behaviour', 'citation_count': 0, 'url': 'https://www.semanticscholar.org/paper/0005e7b83da79b5258808b1aeeea76ad8ea8f432', 'external_ids': {'DOI': '10.1016/j.trf.2025.05.005', 'CorpusId': 278810036}, 'doi': '10.1016/j.trf.2025.05.005', 'topic': 'machine learning', 'ingested_at': '2025-08-15T00:02:00.616604', '_rid': 'nw0sALzVQPEfAAAAAAAAAA==', '_self': 'dbs/nw0sAA==/colls/nw0sALzVQPE=/docs/nw0sALzVQPEfAAAAAAAAAA==/', '_etag': '\"5f0216e8-0000-0200-0000-689e78fc0000\"', '_attachments': 'attachments/', '_ts': 1755216124}, {'id': '0dc5c529e6a3df007d7cf3d7c1fa74495e037dc14dcecc747317573b4bd594a8', 'paper_id': '0009745b72c601d96149c6a9bd1fbd2fb821d3f9', 'title': 'A Data-Driven Approach to Tourism Demand Forecasting: Integrating Web Search Data into a SARIMAX Model', 'abstract': 'Tourism is a core sector of Singapore’s economy, contributing significantly to Gross Domestic Product (GDP) and employment. Accurate tourism demand forecasting is essential for strategic planning, resource allocation, and economic stability, particularly in the post-COVID-19 era. This study develops a SARIMAX-based forecasting model to predict monthly visitor arrivals to Singapore, integrating web search data from Google Trends and external factors. To enhance model accuracy, a systematic selection process was applied to identify the effective subset of external variables. Results of the empirical experiments demonstrate that the proposed SARIMAX model outperforms traditional univariate models, including SARIMA, Holt–Winters, and Prophet, as well as machine learning-based approaches such as Long Short-Term Memory (LSTM) and Recurrent Neural Networks (RNNs). When forecasting the 24-month period of 2023 and 2024, the proposed model achieves the lowest Mean Absolute Percentage Error (MAPE) of 7.32%.', 'authors': ['Geun-Cheol Lee'], 'year': 2025, 'venue': 'International Conference on Data Technologies and Applications', 'citation_count': 0, 'url': 'https://www.semanticscholar.org/paper/0009745b72c601d96149c6a9bd1fbd2fb821d3f9', 'external_ids': {'DOI': '10.3390/data10050073', 'CorpusId': 278608040}, 'doi': '10.3390/data10050073', 'topic': 'machine learning', 'ingested_at': '2025-08-15T00:02:00.616611', '_rid': 'nw0sALzVQPEgAAAAAAAAAA==', '_self': 'dbs/nw0sAA==/colls/nw0sALzVQPE=/docs/nw0sALzVQPEgAAAAAAAAAA==/', '_etag': '\"5f0226e8-0000-0200-0000-689e78fc0000\"', '_attachments': 'attachments/', '_ts': 1755216124}, {'id': 'fc7e91377143bc49b617171cccaff146d12d75a3384730f5e785224ac5132ac6', 'paper_id': '0009bd5f9fec03e6308867db9ffcbbbdcbb3c0cc', 'title': 'A Wireless Collaborated Inference Acceleration Framework for Plant Disease Recognition', 'abstract': \"Plant disease is a critical factor affecting agricultural production. Traditional manual recognition methods face significant drawbacks, including low accuracy, high costs, and inefficiency. Deep learning techniques have demonstrated significant benefits in identifying plant diseases, but they still face challenges such as inference delays and high energy consumption. Deep learning algorithms are difficult to run on resource-limited embedded devices. Offloading these models to cloud servers is confronted with the restriction of communication bandwidth, and all of these factors will influence the inference's efficiency. We propose a collaborative inference framework for recognizing plant diseases between edge devices and cloud servers to enhance inference speed. The DNN model for plant disease recognition is pruned through deep reinforcement learning to improve the inference speed and reduce energy consumption. Then the optimal split point is determined by a greedy strategy to achieve the best collaborated inference acceleration. Finally, the system for collaborative inference acceleration in plant disease recognition has been implemented using Gradio to facilitate friendly human-machine interaction. Experiments indicate that the proposed collaborative inference framework significantly increases inference speed while maintaining acceptable recognition accuracy, offering a novel solution for rapidly diagnosing and preventing plant diseases.\", 'authors': ['Hele Zhu', 'Xinyi Huang', 'Haojia Gao', 'Mengfei Jiang', 'Haohua Que', 'Lei Mu'], 'year': 2025, 'venue': 'International Conference on Intelligent Computing', 'citation_count': 0, 'url': 'https://www.semanticscholar.org/paper/0009bd5f9fec03e6308867db9ffcbbbdcbb3c0cc', 'external_ids': {'DBLP': 'conf/icic/ZhuHGJQM25', 'ArXiv': '2505.02877', 'DOI': '10.48550/arXiv.2505.02877', 'CorpusId': 278338910}, 'doi': '10.48550/arXiv.2505.02877', 'topic': 'machine learning', 'ingested_at': '2025-08-15T00:02:00.616617', '_rid': 'nw0sALzVQPEhAAAAAAAAAA==', '_self': 'dbs/nw0sAA==/colls/nw0sALzVQPE=/docs/nw0sALzVQPEhAAAAAAAAAA==/', '_etag': '\"5f022de8-0000-0200-0000-689e78fc0000\"', '_attachments': 'attachments/', '_ts': 1755216124}, {'id': '085400c6e2d9f6c9b23264c785ca41ca0be20f8aff77fa150d654d848657f7d1', 'paper_id': '0009f796c3484138a58af704e07b7930d2481218', 'title': 'AI Assisted Heart Disease Prediction and Classification and Segmentation based on PIMA and UCI Machine Learning Datasets', 'abstract': \"The article is devoted to the development of an artificial intelligence-driven system of heart disease diagnosis. Based on the machine learning algorithms. We demonstrate how machine learning might be useful to predict the possibility of an individual coming down with heart disease. An AI-based model is developed using the Python language is proposed in this paper to research the healthcare sector is more credible and assists in monitoring and setting up various health monitoring application levels. We present processing data, which involves the manipulation of categorical data as well as the transformation of categorical columns. We outline major stages of application development, which are: collection of databases, logistic regression, and analysis of the attributes of the dataset. The random forest classifier algorithm is created to detect heart diseases in a more accurate manner. This application requires data analysis, which is quite important to the organization. It's about an 83% precision level against training sets. Thereafter, we address the random forest classifier algorithm. such as the experiments and the findings, which give improved accuracies on research diagnoses. We conclude the purpose, the limitations and the research contributions of the paper\\nKeywords: \\xa0Artificial Intelligence, Machine Learning, Logistic Regression, Random Forest, Neural Networks, SVM, Data Preprocessing, Predictive Modeling\", 'authors': ['Umair Ghafoor', 'Nasir Ayub*', 'Asad Yaseen', 'Muhammad Anas', 'Irfan Farooq', 'Saad Khan', 'Noor Fatima Naghman'], 'year': 2025, 'venue': 'Annual Methodological Archive Research Review', 'citation_count': 0, 'url': 'https://www.semanticscholar.org/paper/0009f796c3484138a58af704e07b7930d2481218', 'external_ids': {'DOI': '10.63075/hrrr7966', 'CorpusId': 280359174}, 'doi': '10.63075/hrrr7966', 'topic': 'machine learning', 'ingested_at': '2025-08-15T00:02:00.616625', '_rid': 'nw0sALzVQPEiAAAAAAAAAA==', '_self': 'dbs/nw0sAA==/colls/nw0sALzVQPE=/docs/nw0sALzVQPEiAAAAAAAAAA==/', '_etag': '\"5f023be8-0000-0200-0000-689e78fc0000\"', '_attachments': 'attachments/', '_ts': 1755216124}, {'id': '3e7a6867384e67121879c3b221893313d4dc3cdbaae3c42d55d00ec40b0142de', 'paper_id': '000a1b9355efc759ee983819220dcb52c829deb9', 'title': 'Advancing Fair and Explainable Machine Learning for Neuroimaging Dementia Pattern Classification in Multi-Ethnic Populations', 'abstract': None, 'authors': ['Ngoc-Huynh Ho', 'S. Charisis', 'Nicolas Honnorat', 'Sachintha R. Brandigampala', 'Di Wang', 'S. Heckbert', 'Peter T. Fox', 'David Martinez', 'David H. Wang', 'Timothy M Hughes', 'D. Archer', 'Timothy J. Hohman', 'Sudha Seshadri', 'C. Davatzikos', 'Mohamad Habes'], 'year': 2025, 'venue': 'bioRxiv', 'citation_count': 0, 'url': 'https://www.semanticscholar.org/paper/000a1b9355efc759ee983819220dcb52c829deb9', 'external_ids': {'DOI': '10.1101/2025.06.09.658375', 'CorpusId': 279329221}, 'doi': '10.1101/2025.06.09.658375', 'topic': 'machine learning', 'ingested_at': '2025-08-15T00:02:00.616633', '_rid': 'nw0sALzVQPEjAAAAAAAAAA==', '_self': 'dbs/nw0sAA==/colls/nw0sALzVQPE=/docs/nw0sALzVQPEjAAAAAAAAAA==/', '_etag': '\"5f0247e8-0000-0200-0000-689e78fc0000\"', '_attachments': 'attachments/', '_ts': 1755216124}, {'id': 'dda864e7068d1b8bb82c836dc1d8a3961cd57572b78c19926dad93f201a40056', 'paper_id': '000b6978fc1779d5e8a071cc12f591c13074247d', 'title': 'Developing a machine learning-based prediction model for postinduction hypotension.', 'abstract': \"Arterial hypotension is a common and often unintended event during surgery under general anesthesia, associated with increased postoperative complications, such as kidney injury, myocardial injury, and stroke. Postinduction hypotension (PIH) is influenced by patient-specific factors, chronic medication use, and anesthetic induction regimens. Traditional predictive models struggle with this complexity, making machine learning (ML) a promising alternative due to its ability to handle complex datasets and identify hidden patterns. This study aimed to develop and validate an ML-based model for predicting PIH and identifying key clinical predictors. A retrospective cohort study of 20,309 adult patients undergoing non-obstetric surgery under general anesthesia with intravenous induction was conducted. The primary outcome was the occurrence of PIH, defined as mean arterial pressure (MAP)\\u2009<\\u200955\\xa0mmHg within 10\\xa0min post-induction. Data were split into training and validation sets using k-fold cross-validation. The model's predictive performance was evaluated using the area under the receiver operating characteristic curve (AUC), and feature importance was assessed using SHapley Additive exPlanations (SHAP) values. PIH occurred in 4,948 patients (24.4%). Key predictors included preinduction systolic and mean arterial pressures, propofol dose, and beta-blocker use. The ML model achieved an AUC of 0.732 in predicting PIH. The ML-based model demonstrated significant predictive capability for PIH, identifying key clinical predictors. This model holds the potential for improving preoperative planning and patient risk stratification. However, further validation through prospective studies is necessary to confirm these findings.\", 'authors': ['M. Katsin', 'M. Glebov', 'H. Berkenstadt', 'D. Orkin', 'Y. Portnoy', 'Adi Shuchami', 'Amit Yaniv-Rosenfeld', 'Teddy Lazebnik'], 'year': 2025, 'venue': 'Journal of clinical monitoring and computing', 'citation_count': 0, 'url': 'https://www.semanticscholar.org/paper/000b6978fc1779d5e8a071cc12f591c13074247d', 'external_ids': {'DOI': '10.1007/s10877-025-01295-x', 'CorpusId': 278325590, 'PubMed': '40323565'}, 'doi': '10.1007/s10877-025-01295-x', 'topic': 'machine learning', 'ingested_at': '2025-08-15T00:02:00.616639', '_rid': 'nw0sALzVQPEkAAAAAAAAAA==', '_self': 'dbs/nw0sAA==/colls/nw0sALzVQPE=/docs/nw0sALzVQPEkAAAAAAAAAA==/', '_etag': '\"5f024ae8-0000-0200-0000-689e78fc0000\"', '_attachments': 'attachments/', '_ts': 1755216124}, {'id': '5e37a83a3a5198e7326ee98587b17ae97bb9a6d1fbb0e6a6b29a9b08344d05e3', 'paper_id': '000b7b5ffe89da08f5b1ae5c11fed3f7e2e83fc4', 'title': 'A PERCEPTIVE SURVEY ON THE PREDICTION OF DISEASE DIAGNOSIS USING MACHINE LEARNING, DEEP LEARNING AND ARTIFICIAL INTELLIGENCE', 'abstract': 'Massive volumes of data are routinely handled in the medical industry. Results can be impacted when large amounts of data are handled using traditional approaches. In medical research, machine learning algorithms are particularly useful for obtaining information related to disease prediction. Early prediction of disease is essential to improve the lifestyle of the patients and prevent them from further worsening their condition. For the examination of patient medications and specialists, early disease detection is essential. A variety of diseases are identified using machine learning algorithms, such as ensemble classifier techniques, clustering models, and classification models. Using predictive machine learning techniques can result in high-accuracy and quick illness prediction. This study examines the many sorts of diseases and how they might be predicted using machine learning techniques. This study highlighted the existing research works that mostly explored the prediction of lung problems, brain-related diseases, and heart disease. While deploying conventional model of machine learning and deep learning the problem of overfitting, hyperparameter initialization and unbalanced classes are the major issues which affect the performance of the prediction models.', 'authors': ['Femila K. V.'], 'year': 2025, 'venue': 'International Journal of Advanced Research in Computer Science', 'citation_count': 0, 'url': 'https://www.semanticscholar.org/paper/000b7b5ffe89da08f5b1ae5c11fed3f7e2e83fc4', 'external_ids': {'DOI': '10.26483/ijarcs.v16i3.7271', 'CorpusId': 279763231}, 'doi': '10.26483/ijarcs.v16i3.7271', 'topic': 'machine learning', 'ingested_at': '2025-08-15T00:02:00.616644', '_rid': 'nw0sALzVQPElAAAAAAAAAA==', '_self': 'dbs/nw0sAA==/colls/nw0sALzVQPE=/docs/nw0sALzVQPElAAAAAAAAAA==/', '_etag': '\"5f0256e8-0000-0200-0000-689e78fc0000\"', '_attachments': 'attachments/', '_ts': 1755216124}, {'id': '002b51640332e0cf3d69a256a57d85cb343fa6554be2e64bad0f522a481ea6b0', 'paper_id': '000c3004d2191fd115d1190cca963486e71b9e00', 'title': 'Trajectory Progress-Based Prioritizing and Intrinsic Reward Mechanism for Robust Training of Robotic Manipulations', 'abstract': 'Training robots by model-free deep reinforcement learning (DRL) to carry out robotic manipulation tasks without sufficient successful experiences is challenging. Hindsight experience replay (HER) is introduced to enable DRL agents to learn from failure experiences. However, the HER-enabled model-free DRL still suffers from limited training performance due to its uniform sampling strategy and scarcity of reward information in the task environment. Inspired by the progress incentive mechanism in human psychology, we propose Progress Intrinsic Motivation-based HER (P-HER) in this work to overcome these difficulties. First, the Trajectory Progress-based Prioritized Experience Replay (TPPER) module is developed to prioritize sampling valuable trajectory data thereby achieving more efficient training. Second, the Progress Intrinsic Reward (PIR) module is introduced in agent training to add extra intrinsic rewards for encouraging the agents throughout the exploration of task space. Experiments in challenging robotic manipulation tasks demonstrate that our P-HER method outperforms original HER and state-of-the-art HER-based methods in training performance. Our code of P-HER and its experimental videos in both virtual and real environments are available at https://github.com/weixiang-smart/P-HER. Note to Practitioners—This work is motivated to develop a fast and effective learning method for intelligent robotic manipulation of typical industrial tasks, including pushing, picking, and placing workpieces, which are essential and fundamental processing plan activities for accomplishing robotic machining and assembly applications towards smart manufacturing. The introduction of reinforcement learning enables robots to learn manipulation tasks autonomously, which can save the effort for engineers to teach or hard program the robot and also reduce labor costs. However, the existing HER-based reinforcement learning algorithms are with low training efficiency and performance due to the uniform sampling and scant task reward. Inspired by human learning, this work introduces a progress incentive mechanism to identify valuable trajectory data for effective training. In addition, a novel rewarding method, that applies additional intrinsic rewards for agents learning valuable trajectory space, results in fast and robust learning. The setting of important weight parameters in the rewarding method is given in the paper, which provides a practical reference for applying the proposed algorithm. The average success rate of two actual manipulation tasks in simulation and real robotic manipulation environments are 96% and 92.5%, respectively, which demonstrates that the method is effective for both environments and there is 3.5% average gap of successful rate dropping from simulation scenarios to real ones due to the inherent mismatches between simulation and reality. The high success rate demonstrated in the real Workpieces-sorting task exemplifies the potential of the trained policies for application in industrial scenarios.', 'authors': ['Weixiang Liang', 'Yinlong Liu', 'Jikun Wang', 'Zhi-xin Yang'], 'year': 2025, 'venue': 'IEEE Transactions on Automation Science and Engineering', 'citation_count': 1, 'url': 'https://www.semanticscholar.org/paper/000c3004d2191fd115d1190cca963486e71b9e00', 'external_ids': {'DBLP': 'journals/tase/LiangLWY25', 'DOI': '10.1109/TASE.2024.3513354', 'CorpusId': 274693071}, 'doi': '10.1109/TASE.2024.3513354', 'topic': 'machine learning', 'ingested_at': '2025-08-15T00:02:00.616649', '_rid': 'nw0sALzVQPEmAAAAAAAAAA==', '_self': 'dbs/nw0sAA==/colls/nw0sALzVQPE=/docs/nw0sALzVQPEmAAAAAAAAAA==/', '_etag': '\"5f025be8-0000-0200-0000-689e78fc0000\"', '_attachments': 'attachments/', '_ts': 1755216124}, {'id': '1b442954ed1adce59e50ac31043a820ec6b907ed572ed219233c02f894dcbc96', 'paper_id': '000d5261e4bc230a8c8aacdd3aab5e878a8da174', 'title': 'Enhancing 5G-VANET Environments with SDN-Based Package Filtering for Improved Networking', 'abstract': \"– This research explores the integration of Software-Defined Networking into 5G-enabled Vehicular Ad Hoc Networks (5G-VANETs) with a focus on the implementation of a package filtering model. The goal is to enhance networking within these dynamic environments. By leveraging SDN's centralized control capabilities, this study aims to optimize network performance, enhance security, and improve the quality of service in 5G-VANETs. The outcomes of this research have the potential to contribute significantly to the advancement of intelligent transportation systems and vehicular communication networks. As the VANET milieu operates dynamically, the major issues are to afford high reliability, low latency, and high bandwidth. 5G significantly provides seamless connectivity and ultrafast speed for vehicle-to-infrastructure (V2I) and vehicle-to-vehicle (V2V) communications. Advancements in internet of vehicle brought few security issues such as illegal device access, data injection, and man-in-the-middle attacks. To avoid these issues, this work implements the Package Filtering Model (PFM) that is trained using machine learning and ready to use for real-time detection. It filters out the fraudulent transaction based on the frequency and behavioural characteristics of the communication. The simulation results ensure that the proposed mechanism affords enhanced packet delivery, lower transmission delay, minimum fraud package, and bare minimum block processing time compared to the existing state-of-the-art mechanisms.\", 'authors': ['P. Dharanyadevi', 'Amirthasaravanan Arivunambi', 'B. Senthilnayaki', 'P. Raj'], 'year': 2025, 'venue': 'International Journal of Computer Networks And Applications', 'citation_count': 3, 'url': 'https://www.semanticscholar.org/paper/000d5261e4bc230a8c8aacdd3aab5e878a8da174', 'external_ids': {'DOI': '10.22247/ijcna/2025/02', 'CorpusId': 276745788}, 'doi': '10.22247/ijcna/2025/02', 'topic': 'machine learning', 'ingested_at': '2025-08-15T00:02:00.616654', '_rid': 'nw0sALzVQPEnAAAAAAAAAA==', '_self': 'dbs/nw0sAA==/colls/nw0sALzVQPE=/docs/nw0sALzVQPEnAAAAAAAAAA==/', '_etag': '\"5f0263e8-0000-0200-0000-689e78fc0000\"', '_attachments': 'attachments/', '_ts': 1755216124}, {'id': '0201c44464d6ad17b61dc130b1d4168a3b2adb1d7393155fffe7dc916d93dcdc', 'paper_id': '000d78d6b33d5e54357bc7fade0bc9b6c869783c', 'title': 'Btor2-Select: Machine Learning Based Algorithm Selection for Hardware Model Checking', 'abstract': None, 'authors': ['Zhengyang Lu', 'Po-Chun Chien', 'Nian-Ze Lee', 'Arie Gurfinkel', 'Vijay Ganesh'], 'year': 2025, 'venue': 'International Conference on Computer Aided Verification', 'citation_count': 2, 'url': 'https://www.semanticscholar.org/paper/000d78d6b33d5e54357bc7fade0bc9b6c869783c', 'external_ids': {'DBLP': 'conf/cav/LuCLGG25', 'DOI': '10.1007/978-3-031-98668-0_15', 'CorpusId': 279095557}, 'doi': '10.1007/978-3-031-98668-0_15', 'topic': 'machine learning', 'ingested_at': '2025-08-15T00:02:00.616660', '_rid': 'nw0sALzVQPEoAAAAAAAAAA==', '_self': 'dbs/nw0sAA==/colls/nw0sALzVQPE=/docs/nw0sALzVQPEoAAAAAAAAAA==/', '_etag': '\"5f0269e8-0000-0200-0000-689e78fc0000\"', '_attachments': 'attachments/', '_ts': 1755216124}, {'id': '6cfcaf07d8317c9c13534388ffb164b3cce05b25867dd0a8091ad43014a9b0d6', 'paper_id': '000e85d97068faaefb2f65199f829ea97419afb2', 'title': 'The Role of AI and Machine Learning in Automating Tasks and Decision-Making', 'abstract': 'The rapid developments in Artificial Intelligence (AI) and Machine Learning (ML) in the past decade have transformed numerous industries extensively through optimization and automation of decision-making. From manufacturing and medicine to finance and urban development, AI and ML technologies have proved themselves capable of streamlining operations, optimizing functional efficiency, and reducing human intervention. But despite the ubiquity of AI and ML, the field of research on achieving the full potential of the technologies, especially in real-time decision-making, interpretability, and ethics, still remains very large. Recent studies have shown that AI can automate repetitive tasks, from input of data, fraud detection, and customer service, to playing a role in more complex decision-making situations, from predictive finance analytics to personalized healthcare. But the gap lies in the balance between AI-automated functions and human input, especially where risky cases are involved, such as in medicine and autonomous vehicles. Moreover, issues with explaining AI models limit their large-scale deployment in sensitive decision-making areas.', 'authors': ['Venkata Vijay', 'Krishna Paruchuru', 'Perukilakattunirappel Sundareswaran', 'Shantanu Bindewari'], 'year': 2025, 'venue': 'International Journal for Research Publication and Seminar', 'citation_count': 0, 'url': 'https://www.semanticscholar.org/paper/000e85d97068faaefb2f65199f829ea97419afb2', 'external_ids': {'DOI': '10.36676/jrps.v16.i1.42', 'CorpusId': 277365796}, 'doi': '10.36676/jrps.v16.i1.42', 'topic': 'machine learning', 'ingested_at': '2025-08-15T00:02:00.616668', '_rid': 'nw0sALzVQPEpAAAAAAAAAA==', '_self': 'dbs/nw0sAA==/colls/nw0sALzVQPE=/docs/nw0sALzVQPEpAAAAAAAAAA==/', '_etag': '\"5f026de8-0000-0200-0000-689e78fc0000\"', '_attachments': 'attachments/', '_ts': 1755216124}, {'id': 'c45df02b599c46db4516382c96a49c9c747e2367df89247ad9a2c71a15b82667', 'paper_id': '000f3ab2c2524fdb01a1591a23d4ea94539a6280', 'title': 'Proactive Cyber Threat Detection Using AI and Open-Source Intelligence', 'abstract': 'Frequent developments in cyber threats seriously threaten the digital systems in both the public and private sectors. Today, modern cyberattacks are too unpredictable for the old cybersecurity defenses and time-bound detection methods. Because there are more complex, numerous and distant threats today, to find them and address them before much damage can occur. In this work, look at integrating AI and OSINT to develop a system that can quickly detect any cyber threats in an organization. The researchers used the Hornet 40 dataset which includes network traffic collected over the course of 40 days from honeypots in eight places: Amsterdam, London, Frankfurt, San Francisco, New York, Singapore, Toronto, and Bangalore. To capture different activities from uninvited users, these honeypots received requests only on a specific non-standard SSH port. The information provided by Argus is in the form of detailed bidirectional NetFlow data that displays the effects of geography on various cyber-attacks. Various machine learning approaches are used within a data-driven system to spot and detect abnormal traffic and threats in the network such as Random Forest, Support Vector Machines (SVM), Long Short-Term Memory (LSTM) networks and Isolation Forests. At the same time, data, and findings from public threat intelligence, darknet sources and cybersecurity forums are studied using Natural Language Processing (NLP) to find important information about threats. As a result of this, the detection rate is improved by comparing suspicious traffic in honeypots with global findings and the reported IOCs. Combining AI and OSINT together allows the engine to read and analyze a lot of network data quickly and in almost real time. Joining these processes allows quick and early identification of advanced attacks such as zero-day attacks and intrusions. It is clear from the results that using this approach improves the accuracy of detection, lowers the number of false positives, and reveals attacks that tend to come from specific locations and are typically overlooked by other systems.', 'authors': ['Jafrin Reza', 'Md Imran Khan', 'Sanjida Akrer Sarna'], 'year': 2025, 'venue': 'Journal of Computer Science and Technology Studies', 'citation_count': 0, 'url': 'https://www.semanticscholar.org/paper/000f3ab2c2524fdb01a1591a23d4ea94539a6280', 'external_ids': {'DOI': '10.32996/jcsts.2025.7.5.62', 'CorpusId': 279175728}, 'doi': '10.32996/jcsts.2025.7.5.62', 'topic': 'machine learning', 'ingested_at': '2025-08-15T00:02:00.616673', '_rid': 'nw0sALzVQPEqAAAAAAAAAA==', '_self': 'dbs/nw0sAA==/colls/nw0sALzVQPE=/docs/nw0sALzVQPEqAAAAAAAAAA==/', '_etag': '\"5f0272e8-0000-0200-0000-689e78fc0000\"', '_attachments': 'attachments/', '_ts': 1755216124}, {'id': '34c32e4a2d01992d33e6502ac2c50a4f47198535cab7d4ffe1b8a57a5e566368', 'paper_id': '0010055f516a1669a42efccfbe112d721357e104', 'title': 'Deep learning meets tree phenology modelling: PhenoFormer versus process‐based models', 'abstract': 'Predicting phenology, that is the timing of seasonal events of plant life such as leaf emergence and colouration in relation to climate fluctuations, is essential for anticipating future changes in carbon sequestration and tree vitality in temperate forest ecosystems. Existing approaches typically rely on either hypothesis‐driven process models or data‐driven statistical methods. Several studies have shown that process models outperform statistical methods when predicting under climatic conditions that differ from those of the training data, such as for climate change scenarios. However, in terms of statistical methods, deep learning approaches remain underexplored for species‐level phenology modelling. We present a deep neural architecture, PhenoFormer, for species‐level phenology prediction using meteorological time series. Our experiments utilise a country‐scale data set comprising 70\\u2009years of climate data and approximately 70,000 phenological observations of nine woody plant species, focussing on leaf emergence and colouration in Switzerland. We extensively compare PhenoFormer to 18 different process‐based models and traditional machine learning methods, including Random Forest (RF) and Gradient Boosted Machine (GBM). Our results demonstrate that PhenoFormer outperforms traditional statistical methods in phenology prediction while achieving significant improvements or comparable performance to the best process‐based models. When predicting under climatic conditions similar to the training data, our model improved over the best process‐based models by 6% normalised root‐mean‐squared error (nRMSE) for spring phenology and 7% nRMSE for autumn phenology. Under conditions involving substantial climatic shifts between training and testing (+1.21°C), PhenoFormer reduced the nRMSE by an average of 8% across species compared to RF and GBM, and performed on par with the best process models. These findings highlight the potential of deep learning for phenology modelling and call for further research in this direction, particularly for future climate projections. Meanwhile, the advancements achieved by PhenoFormer can provide valuable insights for anticipating species‐specific phenological responses to climate change.', 'authors': ['Vivien Sainte Fare Garnot', 'Lynsay Spafford', 'J. Lever', 'Christian Sigg', 'B. Pietragalla', 'Y. Vitasse', 'Arthur Gessler', 'Jan Dirk Wegner'], 'year': 2025, 'venue': 'Methods in Ecology and Evolution', 'citation_count': 0, 'url': 'https://www.semanticscholar.org/paper/0010055f516a1669a42efccfbe112d721357e104', 'external_ids': {'DOI': '10.1111/2041-210x.70037', 'CorpusId': 278930228}, 'doi': '10.1111/2041-210x.70037', 'topic': 'machine learning', 'ingested_at': '2025-08-15T00:02:00.616679', '_rid': 'nw0sALzVQPErAAAAAAAAAA==', '_self': 'dbs/nw0sAA==/colls/nw0sALzVQPE=/docs/nw0sALzVQPErAAAAAAAAAA==/', '_etag': '\"5f0279e8-0000-0200-0000-689e78fc0000\"', '_attachments': 'attachments/', '_ts': 1755216124}, {'id': '1f42526718bff77258c64db1baaa9105948c0fb1756c7c68ab5b83c3e4ffa437', 'paper_id': '00129c0f142ae6a14e510a5b7a9ead97417f40bc', 'title': 'Bridging Healthcare Gaps: Sustainable Liver Disease Diagnosis Using Machine Learning in Resource-Limited Regions', 'abstract': 'Liver disease is a major global health issue, and proper diagnosis at the right time is crucial for treatment. This paper discusses machine learning methodologies in the detection and diagnosis of liver diseases such as hepatitis, cirrhosis, and hepatocellular carcinoma. It addresses the diagnostic complexities such as nuances in liver function tests and variability in symptoms and explores how ML can leverage diverse data sources, including medical imaging, genetic markers, and clinical data, to improve precision and efficiency. The study applied advanced Python tools and algorithms with 10-fold cross-validation for splitting the dataset. Random Forest had the highest accuracy at 99%, followed by SVM and Gaussian Naïve Bayes. The research will provide an affordable diagnostic tool, especially for developing countries with a high burden of liver disease, which will contribute to SDGs 3, 1, 10, and 9 through improved access to healthcare, reduction of economic burdens, and innovation. The future directions are multimodal data integration and personalized diagnostic systems for further improving the outcomes in patients.', 'authors': ['Kunal Jha', 'Hasim Ali', 'Akshat Sharma', 'Neda Fatima'], 'year': 2025, 'venue': '2025 2nd International Conference on Computational Intelligence, Communication Technology and Networking (CICTN)', 'citation_count': 0, 'url': 'https://www.semanticscholar.org/paper/00129c0f142ae6a14e510a5b7a9ead97417f40bc', 'external_ids': {'DOI': '10.1109/cictn64563.2025.10932560', 'CorpusId': 277320317}, 'doi': '10.1109/cictn64563.2025.10932560', 'topic': 'machine learning', 'ingested_at': '2025-08-15T00:02:00.616684', '_rid': 'nw0sALzVQPEsAAAAAAAAAA==', '_self': 'dbs/nw0sAA==/colls/nw0sALzVQPE=/docs/nw0sALzVQPEsAAAAAAAAAA==/', '_etag': '\"5f0281e8-0000-0200-0000-689e78fc0000\"', '_attachments': 'attachments/', '_ts': 1755216124}, {'id': '70d54da338e98c36309754e88992cfb0f6aedc652855622ecee98483bf5346e0', 'paper_id': '00134c997a48d0017b54d9ddafb8ccb69525cb72', 'title': '\"My Very Subjective Human Interpretation\": Domain Expert Perspectives on Navigating the Text Analysis Loop for Topic Models', 'abstract': 'Practitioners dealing with large text collections frequently use topic models such as Latent Dirichlet Allocation (LDA) and Non-negative Matrix Factorization (NMF) in their projects to explore trends. Despite twenty years of accrued advancement in natural language processing tools, these models are found to be slow and challenging to apply to text exploration projects. In our work, we engaged with practitioners (n=15) who use topic modeling to explore trends in large text collections to understand their project workflows and investigate which factors often slow down the processes and how they deal with such errors and interruptions in automated topic modeling. Our findings show that practitioners are required to diagnose and resolve context-specific problems with preparing data and models and need control for these steps, especially for data cleaning and parameter selection. Our major findings resonate with existing work across CSCW, computational social science, machine learning, data science, and digital humanities. They also leave us questioning whether automation is actually a useful goal for tools designed for topic models and text exploration.', 'authors': ['Alexandra Schofield', 'Siqi Wu', 'Theo Bayard de Volo', 'Tatsuki Kuze', 'Alfredo Gomez', 'Sharifa Sultana'], 'year': 2025, 'venue': 'Proc. ACM Hum. Comput. Interact.', 'citation_count': 0, 'url': 'https://www.semanticscholar.org/paper/00134c997a48d0017b54d9ddafb8ccb69525cb72', 'external_ids': {'DBLP': 'journals/pacmhci/SchofieldWVKGS25', 'DOI': '10.1145/3701201', 'CorpusId': 275505675}, 'doi': '10.1145/3701201', 'topic': 'machine learning', 'ingested_at': '2025-08-15T00:02:00.616691', '_rid': 'nw0sALzVQPEtAAAAAAAAAA==', '_self': 'dbs/nw0sAA==/colls/nw0sALzVQPE=/docs/nw0sALzVQPEtAAAAAAAAAA==/', '_etag': '\"5f0286e8-0000-0200-0000-689e78fc0000\"', '_attachments': 'attachments/', '_ts': 1755216124}]\n",
      "Extracted 34 papers with abstracts\n",
      "✅ Uploaded abstracts.txt\n",
      "Saved 34 abstracts to abstracts.txt\n",
      "Successfully processed 34 papers to blob storage\n"
     ]
    },
    {
     "data": {
      "text/plain": [
       "True"
      ]
     },
     "execution_count": 7,
     "metadata": {},
     "output_type": "execute_result"
    }
   ],
   "source": [
    "process_papers_to_blob(45)"
   ]
  },
  {
   "cell_type": "code",
   "execution_count": 12,
   "id": "88e3921c",
   "metadata": {},
   "outputs": [
    {
     "ename": "ImportError",
     "evalue": "cannot import name 'create_qa_pipeline' from 'phase2_dapt_implementation.create_qa' (c:\\Users\\joshuacubero\\Documents\\praxis-research\\phase2_dapt_implementation\\create_qa.py)",
     "output_type": "error",
     "traceback": [
      "\u001b[1;31m---------------------------------------------------------------------------\u001b[0m",
      "\u001b[1;31mImportError\u001b[0m                               Traceback (most recent call last)",
      "Cell \u001b[1;32mIn[12], line 1\u001b[0m\n\u001b[1;32m----> 1\u001b[0m \u001b[38;5;28;01mfrom\u001b[39;00m \u001b[38;5;21;01mphase2_dapt_implementation\u001b[39;00m\u001b[38;5;21;01m.\u001b[39;00m\u001b[38;5;21;01mcreate_qa\u001b[39;00m \u001b[38;5;28;01mimport\u001b[39;00m create_qa_pipeline\n\u001b[0;32m      2\u001b[0m create_qa_pipeline()\n",
      "\u001b[1;31mImportError\u001b[0m: cannot import name 'create_qa_pipeline' from 'phase2_dapt_implementation.create_qa' (c:\\Users\\joshuacubero\\Documents\\praxis-research\\phase2_dapt_implementation\\create_qa.py)"
     ]
    }
   ],
   "source": [
    "from phase2_dapt_implementation.create_qa import create_qa_pipeline\n",
    "create_qa_pipeline()"
   ]
  },
  {
   "cell_type": "code",
   "execution_count": null,
   "id": "44fe23d2",
   "metadata": {},
   "outputs": [],
   "source": []
  }
 ],
 "metadata": {
  "kernelspec": {
   "display_name": "Python (base)",
   "language": "python",
   "name": "base"
  },
  "language_info": {
   "codemirror_mode": {
    "name": "ipython",
    "version": 3
   },
   "file_extension": ".py",
   "mimetype": "text/x-python",
   "name": "python",
   "nbconvert_exporter": "python",
   "pygments_lexer": "ipython3",
   "version": "3.11.5"
  }
 },
 "nbformat": 4,
 "nbformat_minor": 5
}
