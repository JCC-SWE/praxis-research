{
 "cells": [
  {
   "cell_type": "code",
   "execution_count": 1,
   "id": "6c4c11cd-f98c-4f99-8b52-9acebb66289b",
   "metadata": {},
   "outputs": [],
   "source": [
    "from phase1_model_instantiation import model_setup, func_test"
   ]
  },
  {
   "cell_type": "code",
   "execution_count": 2,
   "id": "72c4efbc-34aa-489a-bb10-1723286d7782",
   "metadata": {},
   "outputs": [
    {
     "name": "stdout",
     "output_type": "stream",
     "text": [
      "Available Qwen models:\n",
      "  qwen-2.5-3b: modified 2025-09-04 22:55:50+00:00\n"
     ]
    }
   ],
   "source": [
    "print(\"Available Qwen models:\")\n",
    "models = model_setup.list_qwen_models()\n",
    "for name, info in models.items():\n",
    "    print(f\"  {name}: modified {info['last_modified']}\")"
   ]
  },
  {
   "cell_type": "code",
   "execution_count": 4,
   "id": "509ec020-d5d1-429f-96ed-5dd7085f4556",
   "metadata": {},
   "outputs": [
    {
     "name": "stdout",
     "output_type": "stream",
     "text": [
      "Files in model directory:\n",
      "  cache\n",
      "\n",
      "❌ config.json is missing!\n"
     ]
    }
   ],
   "source": [
    "import os\n",
    "model_path = \"/workspace/praxis-research/base-model/qwen-2.5-3b\"\n",
    "print(\"Files in model directory:\")\n",
    "for file in os.listdir(model_path):\n",
    "    print(f\"  {file}\")\n",
    "\n",
    "# Check if config.json exists and what's in it\n",
    "config_path = os.path.join(model_path, \"config.json\")\n",
    "if os.path.exists(config_path):\n",
    "    with open(config_path, 'r') as f:\n",
    "        import json\n",
    "        config = json.load(f)\n",
    "        print(f\"\\nConfig model_type: {config.get('model_type', 'MISSING')}\")\n",
    "else:\n",
    "    print(\"\\n❌ config.json is missing!\")"
   ]
  },
  {
   "cell_type": "code",
   "execution_count": 5,
   "id": "a3c6f9db-e4ee-413f-96f7-c600053f4bed",
   "metadata": {},
   "outputs": [
    {
     "name": "stdout",
     "output_type": "stream",
     "text": [
      "All blobs in qwen_models/:\n",
      "  qwen_models/qwen-2.5-3b/cache/.locks/models--Qwen--Qwen2.5-3B-Instruct/07bfe0640cb5a0037f9322287fbfc682806cf672.lock (0 bytes)\n",
      "  qwen_models/qwen-2.5-3b/cache/.locks/models--Qwen--Qwen2.5-3B-Instruct/20024bfe7c83998e9aeaf98a0cd6a2ce6306c2f0.lock (0 bytes)\n",
      "  qwen_models/qwen-2.5-3b/cache/.locks/models--Qwen--Qwen2.5-3B-Instruct/38047c6284a25427043f0ab040f623a2a20dd093.lock (0 bytes)\n",
      "  qwen_models/qwen-2.5-3b/cache/.locks/models--Qwen--Qwen2.5-3B-Instruct/443909a61d429dff23010e5bddd28ff530edda00.lock (0 bytes)\n",
      "  qwen_models/qwen-2.5-3b/cache/.locks/models--Qwen--Qwen2.5-3B-Instruct/4783fe10ac3adce15ac8f358ef5462739852c569.lock (0 bytes)\n",
      "  qwen_models/qwen-2.5-3b/cache/.locks/models--Qwen--Qwen2.5-3B-Instruct/51b83fbd4e2d363b60235b9c8d494046a83c1cbf.lock (0 bytes)\n",
      "  qwen_models/qwen-2.5-3b/cache/.locks/models--Qwen--Qwen2.5-3B-Instruct/67347b23fb4165b652eb6611f5e1f2a06dfcddba8e909df1b2b0b1857bee06c2.lock (0 bytes)\n",
      "  qwen_models/qwen-2.5-3b/cache/.locks/models--Qwen--Qwen2.5-3B-Instruct/a40d941d0e7e0b966ad8b62bb6d6b7c88cce1299197b599d9d0a4ce59aabfc1d.lock (0 bytes)\n",
      "  qwen_models/qwen-2.5-3b/cache/.locks/models--Qwen--Qwen2.5-3B-Instruct/bf077f03dc569cfb8a90b3ec1ad20365a620bad6.lock (0 bytes)\n",
      "  qwen_models/qwen-2.5-3b/cache/models--Qwen--Qwen2.5-3B-Instruct/.no_exist/aa8e72537993ba99e69dfaafa59ed015b17504d1/added_tokens.json (0 bytes)\n",
      "  qwen_models/qwen-2.5-3b/cache/models--Qwen--Qwen2.5-3B-Instruct/.no_exist/aa8e72537993ba99e69dfaafa59ed015b17504d1/chat_template.jinja (0 bytes)\n",
      "  qwen_models/qwen-2.5-3b/cache/models--Qwen--Qwen2.5-3B-Instruct/.no_exist/aa8e72537993ba99e69dfaafa59ed015b17504d1/model.safetensors (0 bytes)\n",
      "  qwen_models/qwen-2.5-3b/cache/models--Qwen--Qwen2.5-3B-Instruct/.no_exist/aa8e72537993ba99e69dfaafa59ed015b17504d1/special_tokens_map.json (0 bytes)\n",
      "  qwen_models/qwen-2.5-3b/cache/models--Qwen--Qwen2.5-3B-Instruct/blobs/07bfe0640cb5a0037f9322287fbfc682806cf672 (7305 bytes)\n",
      "  qwen_models/qwen-2.5-3b/cache/models--Qwen--Qwen2.5-3B-Instruct/blobs/20024bfe7c83998e9aeaf98a0cd6a2ce6306c2f0 (1671839 bytes)\n",
      "  qwen_models/qwen-2.5-3b/cache/models--Qwen--Qwen2.5-3B-Instruct/blobs/38047c6284a25427043f0ab040f623a2a20dd093 (35581 bytes)\n",
      "  qwen_models/qwen-2.5-3b/cache/models--Qwen--Qwen2.5-3B-Instruct/blobs/443909a61d429dff23010e5bddd28ff530edda00 (7031645 bytes)\n",
      "  qwen_models/qwen-2.5-3b/cache/models--Qwen--Qwen2.5-3B-Instruct/blobs/4783fe10ac3adce15ac8f358ef5462739852c569 (2776833 bytes)\n",
      "  qwen_models/qwen-2.5-3b/cache/models--Qwen--Qwen2.5-3B-Instruct/blobs/51b83fbd4e2d363b60235b9c8d494046a83c1cbf (661 bytes)\n",
      "  qwen_models/qwen-2.5-3b/cache/models--Qwen--Qwen2.5-3B-Instruct/blobs/67347b23fb4165b652eb6611f5e1f2a06dfcddba8e909df1b2b0b1857bee06c2 (3968658944 bytes)\n",
      "  qwen_models/qwen-2.5-3b/cache/models--Qwen--Qwen2.5-3B-Instruct/blobs/a40d941d0e7e0b966ad8b62bb6d6b7c88cce1299197b599d9d0a4ce59aabfc1d (2203268048 bytes)\n",
      "  qwen_models/qwen-2.5-3b/cache/models--Qwen--Qwen2.5-3B-Instruct/blobs/bf077f03dc569cfb8a90b3ec1ad20365a620bad6 (242 bytes)\n",
      "  qwen_models/qwen-2.5-3b/cache/models--Qwen--Qwen2.5-3B-Instruct/refs/main (40 bytes)\n",
      "  qwen_models/qwen-2.5-3b/cache/models--Qwen--Qwen2.5-3B-Instruct/snapshots/aa8e72537993ba99e69dfaafa59ed015b17504d1/config.json (661 bytes)\n",
      "  qwen_models/qwen-2.5-3b/cache/models--Qwen--Qwen2.5-3B-Instruct/snapshots/aa8e72537993ba99e69dfaafa59ed015b17504d1/generation_config.json (242 bytes)\n",
      "  qwen_models/qwen-2.5-3b/cache/models--Qwen--Qwen2.5-3B-Instruct/snapshots/aa8e72537993ba99e69dfaafa59ed015b17504d1/merges.txt (1671839 bytes)\n",
      "  qwen_models/qwen-2.5-3b/cache/models--Qwen--Qwen2.5-3B-Instruct/snapshots/aa8e72537993ba99e69dfaafa59ed015b17504d1/model-00001-of-00002.safetensors (3968658944 bytes)\n",
      "  qwen_models/qwen-2.5-3b/cache/models--Qwen--Qwen2.5-3B-Instruct/snapshots/aa8e72537993ba99e69dfaafa59ed015b17504d1/model-00002-of-00002.safetensors (2203268048 bytes)\n",
      "  qwen_models/qwen-2.5-3b/cache/models--Qwen--Qwen2.5-3B-Instruct/snapshots/aa8e72537993ba99e69dfaafa59ed015b17504d1/model.safetensors.index.json (35581 bytes)\n",
      "  qwen_models/qwen-2.5-3b/cache/models--Qwen--Qwen2.5-3B-Instruct/snapshots/aa8e72537993ba99e69dfaafa59ed015b17504d1/tokenizer.json (7031645 bytes)\n",
      "  qwen_models/qwen-2.5-3b/cache/models--Qwen--Qwen2.5-3B-Instruct/snapshots/aa8e72537993ba99e69dfaafa59ed015b17504d1/tokenizer_config.json (7305 bytes)\n",
      "  qwen_models/qwen-2.5-3b/cache/models--Qwen--Qwen2.5-3B-Instruct/snapshots/aa8e72537993ba99e69dfaafa59ed015b17504d1/vocab.json (2776833 bytes)\n",
      "  qwen_models/qwen-2.5-3b/manifest.json (4354 bytes)\n"
     ]
    }
   ],
   "source": [
    "# List all blobs in the qwen_models directory\n",
    "\n",
    "secrets = model_setup.get_secrets()\n",
    "from azure.storage.blob import BlobServiceClient\n",
    "\n",
    "connection_string = f\"DefaultEndpointsProtocol=https;AccountName={secrets['storage_account_name']};AccountKey={secrets['storage_account_key']};EndpointSuffix=core.windows.net\"\n",
    "blob_service_client = BlobServiceClient.from_connection_string(connection_string)\n",
    "container_client = blob_service_client.get_container_client(secrets['container'])\n",
    "\n",
    "print(\"All blobs in qwen_models/:\")\n",
    "blobs = list(container_client.list_blobs(name_starts_with=\"qwen_models/\"))\n",
    "for blob in blobs:\n",
    "    print(f\"  {blob.name} ({blob.size} bytes)\")"
   ]
  },
  {
   "cell_type": "code",
   "execution_count": 3,
   "id": "215df5e0-3026-4241-8843-fac1aebeebaf",
   "metadata": {},
   "outputs": [
    {
     "name": "stdout",
     "output_type": "stream",
     "text": [
      "✅ Using cached Qwen model at /workspace/praxis-research/base-model/qwen-2.5-3b/cache/models--Qwen--Qwen2.5-3B-Instruct/snapshots/aa8e72537993ba99e69dfaafa59ed015b17504d1\n",
      "🔄 Loading model and tokenizer from /workspace/praxis-research/base-model/qwen-2.5-3b/cache/models--Qwen--Qwen2.5-3B-Instruct/snapshots/aa8e72537993ba99e69dfaafa59ed015b17504d1\n"
     ]
    },
    {
     "name": "stderr",
     "output_type": "stream",
     "text": [
      "Sliding Window Attention is enabled but not implemented for `sdpa`; unexpected results may be encountered.\n"
     ]
    },
    {
     "data": {
      "application/vnd.jupyter.widget-view+json": {
       "model_id": "9cf3eeb7b3084bc3a422261f725f1daa",
       "version_major": 2,
       "version_minor": 0
      },
      "text/plain": [
       "Loading checkpoint shards:   0%|          | 0/2 [00:00<?, ?it/s]"
      ]
     },
     "metadata": {},
     "output_type": "display_data"
    },
    {
     "name": "stdout",
     "output_type": "stream",
     "text": [
      "✅ Successfully loaded Qwen model /workspace/praxis-research/base-model/qwen-2.5-3b/cache/models--Qwen--Qwen2.5-3B-Instruct/snapshots/aa8e72537993ba99e69dfaafa59ed015b17504d1\n"
     ]
    }
   ],
   "source": [
    "# Load model/tokenizer from the correct cache path\n",
    "model_path = \"/workspace/praxis-research/base-model/qwen-2.5-3b/cache/models--Qwen--Qwen2.5-3B-Instruct/snapshots/aa8e72537993ba99e69dfaafa59ed015b17504d1\"\n",
    "\n",
    "model, tokenizer = model_setup.get_qwen_model(model_path)"
   ]
  },
  {
   "cell_type": "code",
   "execution_count": 4,
   "id": "ce1565e3-80ae-4b2e-95f0-229683675b25",
   "metadata": {},
   "outputs": [
    {
     "name": "stdout",
     "output_type": "stream",
     "text": [
      "\n",
      "Interactive QA/chat with Qwen. Type 'exit' or 'quit' to stop.\n"
     ]
    },
    {
     "name": "stdout",
     "output_type": "stream",
     "text": [
      "\n",
      "You:  are you there?\n"
     ]
    },
    {
     "name": "stdout",
     "output_type": "stream",
     "text": [
      "Qwen: Yes, I am here and ready to help you. How can I assist you today?\n"
     ]
    },
    {
     "name": "stdout",
     "output_type": "stream",
     "text": [
      "\n",
      "You:  exit\n"
     ]
    },
    {
     "name": "stdout",
     "output_type": "stream",
     "text": [
      "Goodbye!\n"
     ]
    }
   ],
   "source": [
    "# Start interactive chat\n",
    "func_test.chat_loop(model, tokenizer, system_text=\"You are a helpful AI assistant.\", max_new_tokens=256)"
   ]
  },
  {
   "cell_type": "code",
   "execution_count": 10,
   "id": "f1f01740-1e11-4590-a64d-00ebd9e8315e",
   "metadata": {},
   "outputs": [],
   "source": [
    "from data import data_pipeline, preprocessing"
   ]
  },
  {
   "cell_type": "code",
   "execution_count": 14,
   "id": "f7ca368f-b4e4-4dd1-b930-9bf169f93556",
   "metadata": {},
   "outputs": [
    {
     "name": "stdout",
     "output_type": "stream",
     "text": [
      "Getting credentials...\n",
      "Creating Key Vault client...\n",
      "Retrieving secrets...\n",
      "📊 Retrieving all data from s_scholar_container...\n",
      "Read 135852 items\n",
      "📄 Processing 135852 records for NLP...\n",
      "✅ Formatted 135852 records for NLP processing\n",
      "📄 Found 135852 records from Semantic Scholar\n",
      "🔄 Preprocessing 135852 records for Qwen/Qwen2.5-3B\n"
     ]
    },
    {
     "data": {
      "application/vnd.jupyter.widget-view+json": {
       "model_id": "d0bb27efda854bd482617f32141900cd",
       "version_major": 2,
       "version_minor": 0
      },
      "text/plain": [
       "tokenizer_config.json: 0.00B [00:00, ?B/s]"
      ]
     },
     "metadata": {},
     "output_type": "display_data"
    },
    {
     "data": {
      "application/vnd.jupyter.widget-view+json": {
       "model_id": "765314f3032f48aa919ff3a4d5963ae2",
       "version_major": 2,
       "version_minor": 0
      },
      "text/plain": [
       "vocab.json: 0.00B [00:00, ?B/s]"
      ]
     },
     "metadata": {},
     "output_type": "display_data"
    },
    {
     "data": {
      "application/vnd.jupyter.widget-view+json": {
       "model_id": "37db3a425fbe433c83c16a8ba00f6508",
       "version_major": 2,
       "version_minor": 0
      },
      "text/plain": [
       "merges.txt: 0.00B [00:00, ?B/s]"
      ]
     },
     "metadata": {},
     "output_type": "display_data"
    },
    {
     "data": {
      "application/vnd.jupyter.widget-view+json": {
       "model_id": "6693741cd8a748fdbbb2c608d43f685b",
       "version_major": 2,
       "version_minor": 0
      },
      "text/plain": [
       "tokenizer.json: 0.00B [00:00, ?B/s]"
      ]
     },
     "metadata": {},
     "output_type": "display_data"
    },
    {
     "name": "stdout",
     "output_type": "stream",
     "text": [
      "✅ Cleaned data: 135491 records\n",
      "🔄 Tokenizing data...\n"
     ]
    },
    {
     "data": {
      "application/vnd.jupyter.widget-view+json": {
       "model_id": "f6d7039e92284959ad8992d14b0ef237",
       "version_major": 2,
       "version_minor": 0
      },
      "text/plain": [
       "Map:   0%|          | 0/135491 [00:00<?, ? examples/s]"
      ]
     },
     "metadata": {},
     "output_type": "display_data"
    },
    {
     "name": "stdout",
     "output_type": "stream",
     "text": [
      "✅ Tokenized 135491 samples\n",
      "💾 Saving processed data to qwen_processed_data.pkl\n",
      "\n",
      "📊 Dataset Statistics:\n",
      "Total samples: 135491\n",
      "Average tokens per sample: 257.1\n",
      "Max tokens: 1024\n",
      "Min tokens: 6\n",
      "\n",
      "Source distribution:\n",
      "  s_scholar_container: 135491 samples\n",
      "\n",
      "✅ Preprocessing complete! Dataset ready for training.\n"
     ]
    }
   ],
   "source": [
    "data = preprocessing.get_nlp_ready_data('s_scholar_container')\n",
    "    \n",
    "if data:\n",
    "    print(f\"📄 Found {len(data)} records from Semantic Scholar\")\n",
    "    \n",
    "    # Preprocess for Qwen\n",
    "    dataset = preprocessing.preprocess_for_qwen(\n",
    "        data, \n",
    "        model_name=\"Qwen/Qwen2.5-3B\",\n",
    "        max_length=1024,  # Adjust based on your needs\n",
    "        save_path=\"data/qwen_processed_data.pkl\"\n",
    "    )\n",
    "    \n",
    "    # Show statistics\n",
    "    preprocessing.get_dataset_stats(dataset)\n",
    "    \n",
    "    print(f\"\\n✅ Preprocessing complete! Dataset ready for training.\")\n",
    "else:\n",
    "    print(\"❌ No data found in s_scholar_container!\")"
   ]
  },
  {
   "cell_type": "code",
   "execution_count": 1,
   "id": "c69ef753-7594-437b-be44-22e533119542",
   "metadata": {},
   "outputs": [],
   "source": [
    "from phase1_model_instantiation import open_ai"
   ]
  },
  {
   "cell_type": "code",
   "execution_count": 2,
   "id": "fb850c05",
   "metadata": {},
   "outputs": [],
   "source": [
    "gpt = open_ai.GPT()"
   ]
  },
  {
   "cell_type": "code",
   "execution_count": 3,
   "id": "081bc6b0",
   "metadata": {},
   "outputs": [
    {
     "name": "stdout",
     "output_type": "stream",
     "text": [
      "Hello! I'm just a computer program, so I don't have feelings, but I'm here and ready to help you with anything you need. How can I assist you today?\n"
     ]
    }
   ],
   "source": [
    "response = gpt.ask(\"Hello, how are you?\")\n",
    "print(response)"
   ]
  },
  {
   "cell_type": "code",
   "execution_count": 4,
   "id": "8c76ad04",
   "metadata": {},
   "outputs": [
    {
     "name": "stdout",
     "output_type": "stream",
     "text": [
      "A transformer is a type of deep learning model that has been very successful in natural language processing tasks, such as language translation and text generation. It is based on a self-attention mechanism that allows the model to consider the relationships between all the words in a sentence or sequence simultaneously, rather than sequentially like traditional recurrent neural networks. Transformers have significantly improved the state-of-the-art in many NLP tasks and have been widely adopted in the field.\n"
     ]
    }
   ],
   "source": [
    "print(gpt.ask(\"What is a transformer in machine learning?\"))"
   ]
  },
  {
   "cell_type": "code",
   "execution_count": 2,
   "id": "70bb4cb0",
   "metadata": {},
   "outputs": [
    {
     "name": "stdout",
     "output_type": "stream",
     "text": [
      "Collecting azure-keyvault-secrets\n",
      "  Obtaining dependency information for azure-keyvault-secrets from https://files.pythonhosted.org/packages/26/94/7c902e966b28e7cb5080a8e0dd6bffc22ba44bc907f09c4c633d2b7c4f6a/azure_keyvault_secrets-4.10.0-py3-none-any.whl.metadata\n",
      "  Downloading azure_keyvault_secrets-4.10.0-py3-none-any.whl.metadata (18 kB)\n",
      "Requirement already satisfied: azure-identity in c:\\users\\joshuacubero\\appdata\\local\\anaconda3\\lib\\site-packages (1.17.1)\n",
      "Collecting azure-cosmos\n",
      "  Obtaining dependency information for azure-cosmos from https://files.pythonhosted.org/packages/61/dc/380f843744535497acd0b85aacb59565c84fc28bf938c8d6e897a858cd95/azure_cosmos-4.9.0-py3-none-any.whl.metadata\n",
      "  Downloading azure_cosmos-4.9.0-py3-none-any.whl.metadata (80 kB)\n",
      "     ---------------------------------------- 0.0/80.8 kB ? eta -:--:--\n",
      "     ----- ---------------------------------- 10.2/80.8 kB ? eta -:--:--\n",
      "     ---------------------------------------- 80.8/80.8 kB 1.1 MB/s eta 0:00:00\n",
      "Requirement already satisfied: isodate>=0.6.1 in c:\\users\\joshuacubero\\appdata\\local\\anaconda3\\lib\\site-packages (from azure-keyvault-secrets) (0.6.1)\n",
      "Collecting azure-core>=1.31.0 (from azure-keyvault-secrets)\n",
      "  Obtaining dependency information for azure-core>=1.31.0 from https://files.pythonhosted.org/packages/27/52/805980aa1ba18282077c484dba634ef0ede1e84eec8be9c92b2e162d0ed6/azure_core-1.35.1-py3-none-any.whl.metadata\n",
      "  Downloading azure_core-1.35.1-py3-none-any.whl.metadata (46 kB)\n",
      "     ---------------------------------------- 0.0/46.5 kB ? eta -:--:--\n",
      "     ---------------------------------------- 46.5/46.5 kB 2.3 MB/s eta 0:00:00\n",
      "Requirement already satisfied: typing-extensions>=4.6.0 in c:\\users\\joshuacubero\\appdata\\local\\anaconda3\\lib\\site-packages (from azure-keyvault-secrets) (4.12.2)\n",
      "Requirement already satisfied: cryptography>=2.5 in c:\\users\\joshuacubero\\appdata\\local\\anaconda3\\lib\\site-packages (from azure-identity) (41.0.3)\n",
      "Requirement already satisfied: msal>=1.24.0 in c:\\users\\joshuacubero\\appdata\\local\\anaconda3\\lib\\site-packages (from azure-identity) (1.30.0)\n",
      "Requirement already satisfied: msal-extensions>=0.3.0 in c:\\users\\joshuacubero\\appdata\\local\\anaconda3\\lib\\site-packages (from azure-identity) (1.2.0)\n",
      "Requirement already satisfied: requests>=2.21.0 in c:\\users\\joshuacubero\\appdata\\local\\anaconda3\\lib\\site-packages (from azure-core>=1.31.0->azure-keyvault-secrets) (2.31.0)\n",
      "Requirement already satisfied: six>=1.11.0 in c:\\users\\joshuacubero\\appdata\\local\\anaconda3\\lib\\site-packages (from azure-core>=1.31.0->azure-keyvault-secrets) (1.16.0)\n",
      "Requirement already satisfied: cffi>=1.12 in c:\\users\\joshuacubero\\appdata\\local\\anaconda3\\lib\\site-packages (from cryptography>=2.5->azure-identity) (1.15.1)\n",
      "Requirement already satisfied: PyJWT[crypto]<3,>=1.0.0 in c:\\users\\joshuacubero\\appdata\\local\\anaconda3\\lib\\site-packages (from msal>=1.24.0->azure-identity) (2.4.0)\n",
      "Requirement already satisfied: portalocker<3,>=1.4 in c:\\users\\joshuacubero\\appdata\\local\\anaconda3\\lib\\site-packages (from msal-extensions>=0.3.0->azure-identity) (2.10.1)\n",
      "Requirement already satisfied: pycparser in c:\\users\\joshuacubero\\appdata\\local\\anaconda3\\lib\\site-packages (from cffi>=1.12->cryptography>=2.5->azure-identity) (2.21)\n",
      "Requirement already satisfied: pywin32>=226 in c:\\users\\joshuacubero\\appdata\\local\\anaconda3\\lib\\site-packages (from portalocker<3,>=1.4->msal-extensions>=0.3.0->azure-identity) (305.1)\n",
      "Requirement already satisfied: charset-normalizer<4,>=2 in c:\\users\\joshuacubero\\appdata\\local\\anaconda3\\lib\\site-packages (from requests>=2.21.0->azure-core>=1.31.0->azure-keyvault-secrets) (2.0.4)\n",
      "Requirement already satisfied: idna<4,>=2.5 in c:\\users\\joshuacubero\\appdata\\local\\anaconda3\\lib\\site-packages (from requests>=2.21.0->azure-core>=1.31.0->azure-keyvault-secrets) (3.4)\n",
      "Requirement already satisfied: urllib3<3,>=1.21.1 in c:\\users\\joshuacubero\\appdata\\local\\anaconda3\\lib\\site-packages (from requests>=2.21.0->azure-core>=1.31.0->azure-keyvault-secrets) (1.26.16)\n",
      "Requirement already satisfied: certifi>=2017.4.17 in c:\\users\\joshuacubero\\appdata\\local\\anaconda3\\lib\\site-packages (from requests>=2.21.0->azure-core>=1.31.0->azure-keyvault-secrets) (2024.2.2)\n",
      "Using cached azure_keyvault_secrets-4.10.0-py3-none-any.whl (125 kB)\n",
      "Using cached azure_cosmos-4.9.0-py3-none-any.whl (303 kB)\n",
      "Downloading azure_core-1.35.1-py3-none-any.whl (211 kB)\n",
      "   ---------------------------------------- 0.0/211.8 kB ? eta -:--:--\n",
      "   --------------------------------------- 211.8/211.8 kB 12.6 MB/s eta 0:00:00\n",
      "Installing collected packages: azure-core, azure-keyvault-secrets, azure-cosmos\n",
      "  Attempting uninstall: azure-core\n",
      "    Found existing installation: azure-core 1.30.2\n",
      "    Uninstalling azure-core-1.30.2:\n",
      "      Successfully uninstalled azure-core-1.30.2\n",
      "Successfully installed azure-core-1.35.1 azure-cosmos-4.9.0 azure-keyvault-secrets-4.10.0\n"
     ]
    }
   ],
   "source": [
    "!pip install azure-keyvault-secrets azure-identity azure-cosmos"
   ]
  },
  {
   "cell_type": "code",
   "execution_count": 3,
   "id": "0a78f6da",
   "metadata": {},
   "outputs": [],
   "source": [
    "from phase2_dapt_implementation import create_qa "
   ]
  },
  {
   "cell_type": "code",
   "execution_count": 5,
   "id": "403f8e29",
   "metadata": {},
   "outputs": [
    {
     "name": "stdout",
     "output_type": "stream",
     "text": [
      "Getting credentials...\n",
      "Creating Key Vault client...\n",
      "Retrieving secrets...\n"
     ]
    },
    {
     "name": "stderr",
     "output_type": "stream",
     "text": [
      "DefaultAzureCredential failed to retrieve a token from the included credentials.\n",
      "Attempted credentials:\n",
      "\tEnvironmentCredential: EnvironmentCredential authentication unavailable. Environment variables are not fully configured.\n",
      "Visit https://aka.ms/azsdk/python/identity/environmentcredential/troubleshoot to troubleshoot this issue.\n",
      "\tManagedIdentityCredential: ManagedIdentityCredential authentication unavailable, no response from the IMDS endpoint.\n",
      "\tSharedTokenCacheCredential: SharedTokenCacheCredential authentication unavailable. No accounts were found in the cache.\n",
      "\tAzureCliCredential: Please run 'az login' to set up an account\n",
      "\tAzurePowerShellCredential: Az.Account module >= 2.2.0 is not installed\n",
      "\tAzureDeveloperCliCredential: Azure Developer CLI could not be found. Please visit https://aka.ms/azure-dev for installation instructions and then,once installed, authenticate to your Azure account using 'azd auth login'.\n",
      "To mitigate this issue, please refer to the troubleshooting guidelines here at https://aka.ms/azsdk/python/identity/defaultazurecredential/troubleshoot.\n"
     ]
    },
    {
     "name": "stdout",
     "output_type": "stream",
     "text": [
      "Error retrieving secrets: DefaultAzureCredential failed to retrieve a token from the included credentials.\n",
      "Attempted credentials:\n",
      "\tEnvironmentCredential: EnvironmentCredential authentication unavailable. Environment variables are not fully configured.\n",
      "Visit https://aka.ms/azsdk/python/identity/environmentcredential/troubleshoot to troubleshoot this issue.\n",
      "\tManagedIdentityCredential: ManagedIdentityCredential authentication unavailable, no response from the IMDS endpoint.\n",
      "\tSharedTokenCacheCredential: SharedTokenCacheCredential authentication unavailable. No accounts were found in the cache.\n",
      "\tAzureCliCredential: Please run 'az login' to set up an account\n",
      "\tAzurePowerShellCredential: Az.Account module >= 2.2.0 is not installed\n",
      "\tAzureDeveloperCliCredential: Azure Developer CLI could not be found. Please visit https://aka.ms/azure-dev for installation instructions and then,once installed, authenticate to your Azure account using 'azd auth login'.\n",
      "To mitigate this issue, please refer to the troubleshooting guidelines here at https://aka.ms/azsdk/python/identity/defaultazurecredential/troubleshoot.\n"
     ]
    },
    {
     "ename": "ValueError",
     "evalue": "Cosmos DB credentials not found in Key Vault",
     "output_type": "error",
     "traceback": [
      "\u001b[1;31m---------------------------------------------------------------------------\u001b[0m",
      "\u001b[1;31mValueError\u001b[0m                                Traceback (most recent call last)",
      "Cell \u001b[1;32mIn[5], line 1\u001b[0m\n\u001b[1;32m----> 1\u001b[0m create_qa\u001b[38;5;241m.\u001b[39mget_papers(\u001b[38;5;241m3\u001b[39m)\n",
      "File \u001b[1;32mg:\\My Drive\\Dissertation\\praxis-research\\phase2_dapt_implementation\\create_qa.py:20\u001b[0m, in \u001b[0;36mget_papers\u001b[1;34m(limit)\u001b[0m\n\u001b[0;32m     18\u001b[0m \u001b[38;5;28;01mdef\u001b[39;00m \u001b[38;5;21mget_papers\u001b[39m(limit\u001b[38;5;241m=\u001b[39m\u001b[38;5;241m10\u001b[39m):\n\u001b[0;32m     19\u001b[0m \u001b[38;5;250m    \u001b[39m\u001b[38;5;124;03m\"\"\"Get papers from Cosmos DB\"\"\"\u001b[39;00m\n\u001b[1;32m---> 20\u001b[0m     cosmos \u001b[38;5;241m=\u001b[39m CosmosDB()  \u001b[38;5;66;03m# get_secrets() is called inside the class\u001b[39;00m\n\u001b[0;32m     21\u001b[0m     papers \u001b[38;5;241m=\u001b[39m cosmos\u001b[38;5;241m.\u001b[39mread_limited(limit)\n\u001b[0;32m     22\u001b[0m     \u001b[38;5;28mprint\u001b[39m(\u001b[38;5;124mf\u001b[39m\u001b[38;5;124m\"\u001b[39m\u001b[38;5;124mRetrieved \u001b[39m\u001b[38;5;132;01m{\u001b[39;00m\u001b[38;5;28mlen\u001b[39m(papers)\u001b[38;5;132;01m}\u001b[39;00m\u001b[38;5;124m papers\u001b[39m\u001b[38;5;124m\"\u001b[39m)\n",
      "File \u001b[1;32mg:\\My Drive\\Dissertation\\praxis-research\\azure_resources\\cosmos_util.py:44\u001b[0m, in \u001b[0;36mCosmosDB.__init__\u001b[1;34m(self, container_name)\u001b[0m\n\u001b[0;32m     41\u001b[0m secrets \u001b[38;5;241m=\u001b[39m get_secrets()\n\u001b[0;32m     43\u001b[0m \u001b[38;5;28;01mif\u001b[39;00m \u001b[38;5;129;01mnot\u001b[39;00m secrets\u001b[38;5;241m.\u001b[39mget(\u001b[38;5;124m'\u001b[39m\u001b[38;5;124mcosmos-uri\u001b[39m\u001b[38;5;124m'\u001b[39m) \u001b[38;5;129;01mor\u001b[39;00m \u001b[38;5;129;01mnot\u001b[39;00m secrets\u001b[38;5;241m.\u001b[39mget(\u001b[38;5;124m'\u001b[39m\u001b[38;5;124mcosmos-key\u001b[39m\u001b[38;5;124m'\u001b[39m):\n\u001b[1;32m---> 44\u001b[0m     \u001b[38;5;28;01mraise\u001b[39;00m \u001b[38;5;167;01mValueError\u001b[39;00m(\u001b[38;5;124m\"\u001b[39m\u001b[38;5;124mCosmos DB credentials not found in Key Vault\u001b[39m\u001b[38;5;124m\"\u001b[39m)\n\u001b[0;32m     46\u001b[0m \u001b[38;5;66;03m# Initialize Cosmos client\u001b[39;00m\n\u001b[0;32m     47\u001b[0m \u001b[38;5;28mself\u001b[39m\u001b[38;5;241m.\u001b[39mclient \u001b[38;5;241m=\u001b[39m CosmosClient(\n\u001b[0;32m     48\u001b[0m     url\u001b[38;5;241m=\u001b[39msecrets[\u001b[38;5;124m'\u001b[39m\u001b[38;5;124mcosmos-uri\u001b[39m\u001b[38;5;124m'\u001b[39m],\n\u001b[0;32m     49\u001b[0m     credential\u001b[38;5;241m=\u001b[39msecrets[\u001b[38;5;124m'\u001b[39m\u001b[38;5;124mcosmos-key\u001b[39m\u001b[38;5;124m'\u001b[39m]\n\u001b[0;32m     50\u001b[0m )\n",
      "\u001b[1;31mValueError\u001b[0m: Cosmos DB credentials not found in Key Vault"
     ]
    }
   ],
   "source": [
    "create_qa.get_papers(3)"
   ]
  }
 ],
 "metadata": {
  "kernelspec": {
   "display_name": "Python (base)",
   "language": "python",
   "name": "base"
  },
  "language_info": {
   "codemirror_mode": {
    "name": "ipython",
    "version": 3
   },
   "file_extension": ".py",
   "mimetype": "text/x-python",
   "name": "python",
   "nbconvert_exporter": "python",
   "pygments_lexer": "ipython3",
   "version": "3.11.5"
  }
 },
 "nbformat": 4,
 "nbformat_minor": 5
}
